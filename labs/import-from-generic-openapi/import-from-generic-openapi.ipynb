{
 "cells": [
  {
   "cell_type": "markdown",
   "metadata": {},
   "source": [
    "# API Center ❤️ all APIs\n",
    "\n",
    "## Import from Generic OpenAPI lab\n",
    "![image](../../images/import-from-generic-openapi.png)\n",
    "\n",
    "Playground to experiment importing APIs in the OpenAPI specification into API Center. We start by creating an API Center instance using [Bicep resource definition](https://learn.microsoft.com/en-us/azure/templates/microsoft.apicenter/services?pivots=deployment-language-bicep) and then we will use the [Azure CLI]((https://learn.microsoft.com/en-us/cli/azure/apic?view=azure-cli-latest)) to import the APIs.\n",
    "\n",
    "💡 Every step outlined below leverages the power of PowerShell scripts. This is designed so you can seamlessly integrate them into your automation workflows, CI/CD pipelines, webhooks, and more.\n",
    "\n",
    "### Learning Objectives - Upon completing this lab, you should be able to:\n",
    "- Deploy Azure API Center using Bicep.\n",
    "- Configure the API Center metadata scheme for APIs, Environments and Deployments.\n",
    "- Understand the Azure CLI commands to manage Azure API Center. [Full list of commands available here](https://learn.microsoft.com/en-us/cli/azure/apic?view=azure-cli-latest).\n",
    "- Create an enviroment with custom metadata properties \n",
    "- Register an API using the OpenAPI spec as the source of truth and assign API metadata properties.\n",
    "- Register an API with individual commands to have full control over all the properties. \n",
    "- Search and discover the APIs registered in API Center.\n",
    "\n",
    "### Prerequisites\n",
    "- Install or update to the latest [.NET 8 SDK](https://dotnet.microsoft.com/en-us/download)\n",
    "- Install or update to the latest [Visual Studio Code](https://code.visualstudio.com/)\n",
    "- Install the [Polyglot Notebooks extension](https://marketplace.visualstudio.com/items?itemName=ms-dotnettools.dotnet-interactive-vscode) from the VS Code marketplace\n",
    "- Install or update to the latest [PowerShell](https://learn.microsoft.com/en-us/powershell/scripting/install/installing-powershell)\n",
    "- Install or update to the latest [Azure CLI](https://learn.microsoft.com/en-us/cli/azure/install-azure-cli). The Azure API Center extension will automatically install the first time you run an [az apic](https://learn.microsoft.com/en-us/cli/azure/apic?view=azure-cli-latest) command.\n",
    "- [An Azure Subscription](https://azure.microsoft.com/en-us/free/) with Contributor permissions\n",
    "- [Sign in to Azure with Azure CLI](https://learn.microsoft.com/en-us/cli/azure/authenticate-azure-cli-interactively)\n"
   ]
  },
  {
   "cell_type": "markdown",
   "metadata": {},
   "source": [
    "### 0️⃣ Initialize notebook variables\n",
    "\n",
    "- Resources will be suffixed by a unique string based on your subscription id\n",
    "- Adjust the APIC location parameter according your preferences and [region availability.](https://learn.microsoft.com/en-us/azure/api-center/overview#available-regions) \n"
   ]
  },
  {
   "cell_type": "code",
   "execution_count": null,
   "metadata": {
    "dotnet_interactive": {
     "language": "pwsh"
    },
    "polyglot_notebook": {
     "kernelName": "pwsh"
    },
    "vscode": {
     "languageId": "polyglot-notebook"
    }
   },
   "outputs": [],
   "source": [
    "\n",
    "$deploymentName = Split-Path -Path (Get-Location) -Leaf\n",
    "$resourceGroupName = \"lab-$deploymentName\" # change the name to match your naming style\n",
    "$resourceGroupLocation = \"westeurope\"\n",
    "$apicResourceNamePrefix = \"apic\"\n",
    "$apicResourceSku = \"free\"\n",
    "$apicResourceTags = @{\n",
    "  \"lab\" = $deploymentName\n",
    "}\n",
    "\n",
    "# the following metadata will be created during the deployment\n",
    "$metadata = @(\n",
    "  @{\n",
    "    \"name\" = 'termsOfService'\n",
    "    \"schema\" = '{\"title\":\"termsOfService\",\"description\":\"The terms of service URL for using the API\",\"type\":\"string\",\"format\":\"uri\"}'\n",
    "    \"assignedTo\" = @(\n",
    "      @{\n",
    "        \"entity\" = 'api'\n",
    "        \"required\" = $false\n",
    "      }\n",
    "    )\n",
    "  },\n",
    "  @{\n",
    "    \"name\" = 'externalDocs'\n",
    "    \"schema\" = '{\"title\":\"externalDocs\",\"description\":\"External Documents that describe the API\",\"type\":\"object\",\"properties\":{\"description\":{\"title\":\"description\",\"description\":\"Description of the External Documents\",\"type\":\"string\"},\"url\":{\"title\":\"url\",\"description\":\"The URL to reference the external documents\",\"type\":\"string\",\"format\":\"uri\"}},\"required\":[\"url\"]}'\n",
    "    \"assignedTo\" = @(\n",
    "      @{\n",
    "        \"entity\" = 'api'\n",
    "        \"required\" = $false\n",
    "      }\n",
    "    )\n",
    "  },\n",
    "  @{\n",
    "    \"name\" = 'sourceControl'\n",
    "    \"schema\" = '{\"title\":\"sourceControl\",\"description\":\"Source Control Info\",\"type\":\"object\",\"properties\":{\"type\":{\"type\":\"string\",\"title\":\"type\",\"description\":\"Source Control System type\",\"oneOf\":[{\"const\":\"GitHub\",\"description\":\"\"},{\"const\":\"GitLab\",\"description\":\"\"},{\"const\":\"Bitbucket\",\"description\":\"\"},{\"const\":\"Other\",\"description\":\"\"}]},\"repository\":{\"title\":\"repository\",\"description\":\"URL for the repository\",\"type\":\"string\",\"format\":\"uri\"},\"url\":{\"title\":\"url\",\"description\":\"Full URL for the API definition stored in the source control system\",\"type\":\"string\",\"format\":\"uri\"}},\"required\":[\"type\",\"repository\",\"url\"]}'\n",
    "    \"assignedTo\" = @(\n",
    "      @{\n",
    "        \"entity\" = 'api'\n",
    "        \"required\" = $false\n",
    "      }\n",
    "    )\n",
    "  },\n",
    "  @{\n",
    "    \"name\" = 'securitySchemes'\n",
    "    \"schema\" = '{\"title\":\"securitySchemes\",\"description\":\"API Security Schemes\",\"type\":\"array\",\"items\":{\"type\":\"object\",\"properties\":{\"name\":{\"title\":\"name\",\"description\":\"Name of the API Security Scheme\",\"type\":\"string\"},\"type\":{\"type\":\"string\",\"title\":\"type\",\"description\":\"The Type of the API Security Scheme\",\"oneOf\":[{\"const\":\"http\",\"description\":\"Basic, Bearer and other HTTP authentications schemes\"},{\"const\":\"apiKey\",\"description\":\"API keys and cookie authentication\"},{\"const\":\"oauth2\",\"description\":\"OAuth 2.0 is the industry-standard protocol for authorization.\"},{\"const\":\"openIdConnect \",\"description\":\"OpenID Connect Discovery\"}]},\"authorizationurl\":{\"title\":\"authorizationUrl\",\"type\":\"string\",\"format\":\"uri\"}},\"required\":[\"name\",\"type\"]}}'\n",
    "    \"assignedTo\" = @(\n",
    "      @{\n",
    "        \"entity\" = 'deployment'\n",
    "        \"required\" = $false\n",
    "      }\n",
    "    )\n",
    "  },\n",
    "  @{\n",
    "    \"name\" = 'host'\n",
    "    \"schema\" = '{\"title\":\"host\",\"description\":\"The name of the host that is hosting the API\",\"type\":\"string\"}'\n",
    "    \"assignedTo\" = @(\n",
    "      @{\n",
    "        \"entity\" = 'environment'\n",
    "        \"required\" = $false\n",
    "      }\n",
    "    )\n",
    "  }\n",
    ")\n",
    "\n",
    "# the following environment(s) will be created during the deployment\n",
    "$environments = @(\n",
    "  @{\n",
    "    \"title\" = 'prod'\n",
    "    \"kind\" = 'production'\n",
    "    \"description\" = 'Production Environment'\n",
    "    \"server\" = @{\n",
    "        \"type\" = 'Kubernetes' \n",
    "        \"managementPortalUri\" = 'https://swagger.io/tools/swaggerhub/'\n",
    "    }\n",
    "    \"onboarding\" = @{\n",
    "        \"developerPortalUri\" = 'https://swagger.io/tools/swaggerhub/features/swaggerhub-portal/'\n",
    "        \"instructions\" = 'Sign in and access the developer portal to get started with the API'\n",
    "    }\n",
    "    \"customProperties\" = @{ \n",
    "    }\n",
    "  }\n",
    ")\n",
    "\n",
    "$environmentCustomProperties = @{\n",
    "    \"host\" = \"petstore3.swagger.io\"\n",
    "}\n",
    "\n",
    "$apiCustomProperties = @{\n",
    "    \"termsOfService\" = \"http://swagger.io/terms/\"\n",
    "    \"externalDocs\" = @{\n",
    "        \"description\" = \"Find out more about Swagger\"\n",
    "        \"url\" = \"http://swagger.io\"\n",
    "    }\n",
    "    \"sourceControl\" = @{\n",
    "        \"type\" = \"GitHub\"\n",
    "        \"repository\" = \"https://github.com/swagger-api/swagger-petstore\"\n",
    "        \"url\" = \"https://github.com/swagger-api/swagger-petstore/blob/master/src/main/resources/openapi.yaml\"\n",
    "    }\n",
    "}\n",
    "\n",
    "$deploymentCustomProperties = @{\n",
    "    \"securitySchemes\" = @(\n",
    "        @{\n",
    "          \"name\" = \"petstore_auth\"\n",
    "          \"type\" = \"oauth2\"\n",
    "          \"authorizationurl\" = \"https://petstore3.swagger.io/oauth/authorize\"\n",
    "        }\n",
    "    )\n",
    "}\n",
    "\n",
    "Write-Output \"✅ Variables initialized ⌚ $(Get-Date -Format 'HH:mm:ss')\"\n"
   ]
  },
  {
   "cell_type": "markdown",
   "metadata": {},
   "source": [
    "### 1️⃣ Create the Azure Resource Group\n",
    "All resources deployed in this lab will be created in the specified resource group. Skip this step if you want to use an existing resource group."
   ]
  },
  {
   "cell_type": "code",
   "execution_count": null,
   "metadata": {
    "dotnet_interactive": {
     "language": "pwsh"
    },
    "polyglot_notebook": {
     "kernelName": "pwsh"
    },
    "vscode": {
     "languageId": "polyglot-notebook"
    }
   },
   "outputs": [],
   "source": [
    "$resourceGroupOutput = az group create --name $resourceGroupName --location $resourceGroupLocation\n",
    "\n",
    "if ($LASTEXITCODE -ne 0) {\n",
    "    Write-Output $resourceGroupOutput\n",
    "} else {\n",
    "    Write-Output \"✅ Azure Resource Grpup $resourceGroupName created ⌚ $(Get-Date -Format 'HH:mm:ss')\"\n",
    "}"
   ]
  },
  {
   "cell_type": "markdown",
   "metadata": {},
   "source": [
    "### 2️⃣ Create deployment using 🦾 Bicep\n",
    "\n",
    "This lab uses [Bicep](https://learn.microsoft.com/en-us/azure/azure-resource-manager/bicep/overview?tabs=bicep) to declarative define all the resources that will be deployed. Change the parameters or the [main.bicep](main.bicep) directly to try different configurations. "
   ]
  },
  {
   "cell_type": "code",
   "execution_count": null,
   "metadata": {
    "dotnet_interactive": {
     "language": "pwsh"
    },
    "polyglot_notebook": {
     "kernelName": "pwsh"
    },
    "vscode": {
     "languageId": "polyglot-notebook"
    }
   },
   "outputs": [],
   "source": [
    "$bicepParameters = @{\n",
    "    \"`$schema\" = \"https://schema.management.azure.com/schemas/2019-04-01/deploymentParameters.json#\"\n",
    "    \"contentVersion\" = \"1.0.0.0\"\n",
    "    \"parameters\" = @{\n",
    "        \"apicResourceNamePrefix\" = @{ \"value\" = $apicResourceNamePrefix }\n",
    "        \"apicResourceTags\" = @{ \"value\" = $apicResourceTags }\n",
    "        \"apicMetadataSchema\" = @{ \"value\" = $metadata }\n",
    "        \"apicEnvironments\" = @{ \"value\" = $environments }\n",
    "    }\n",
    "}\n",
    "\n",
    "$bicepParametersJson = ConvertTo-Json -InputObject $bicepParameters -Depth 10\n",
    "Set-Content -Path \"params.json\" -Value $bicepParametersJson\n",
    "\n",
    "# Execute the Azure CLI command to create the deployment\n",
    "az deployment group create --name $deploymentName --resource-group $resourceGroupName --template-file \"main.bicep\" --parameters \"params.json\"\n",
    "\n"
   ]
  },
  {
   "cell_type": "markdown",
   "metadata": {},
   "source": [
    "### 3️⃣ Get the deployment outputs\n",
    "\n",
    "We will set the `apicResourceName` variable with the value that was returned from the deployment "
   ]
  },
  {
   "cell_type": "code",
   "execution_count": null,
   "metadata": {
    "dotnet_interactive": {
     "language": "pwsh"
    },
    "polyglot_notebook": {
     "kernelName": "pwsh"
    },
    "vscode": {
     "languageId": "polyglot-notebook"
    }
   },
   "outputs": [],
   "source": [
    "$deploymentOutput = az deployment group show --name $deploymentName -g $resourceGroupName --query properties.outputs.apicResourceName.value -o json\n",
    "if ($LASTEXITCODE -ne 0) {\n",
    "    Write-Output $deploymentOutput\n",
    "} else {\n",
    "    $apicResourceName = $deploymentOutput | ConvertFrom-Json\n",
    "}\n",
    "Write-Output \"👉🏻 API Center name: $apicResourceName\""
   ]
  },
  {
   "cell_type": "markdown",
   "metadata": {},
   "source": [
    "### 4️⃣ Update the environment metadata\n",
    "\n",
    "We will [update the enviroment](https://learn.microsoft.com/en-us/cli/azure/apic/environment?view=azure-cli-latest#az-apic-environment-update) with the `custom properties` defined in the variable `environmentCustomProperties`"
   ]
  },
  {
   "cell_type": "code",
   "execution_count": null,
   "metadata": {
    "dotnet_interactive": {
     "language": "pwsh"
    },
    "polyglot_notebook": {
     "kernelName": "pwsh"
    },
    "vscode": {
     "languageId": "polyglot-notebook"
    }
   },
   "outputs": [],
   "source": [
    "$environmentCustomPropertiesJson = ConvertTo-Json -InputObject $environmentCustomProperties -Depth 10 -Compress\n",
    "az apic environment update -g $resourceGroupName -s $apicResourceName --environment-id \"prod\" `\n",
    "            --custom-properties $environmentCustomPropertiesJson.replace('\"','\\\"')"
   ]
  },
  {
   "cell_type": "markdown",
   "metadata": {},
   "source": [
    "### 5️⃣. 1 Register an API with the register command\n",
    "\n",
    "[Registers](https://learn.microsoft.com/en-us/cli/azure/apic/api?view=azure-cli-latest#az-apic-api-register) a new API with version, definition, and associated deployments using the specification file as the source of truth."
   ]
  },
  {
   "cell_type": "code",
   "execution_count": null,
   "metadata": {
    "dotnet_interactive": {
     "language": "pwsh"
    },
    "polyglot_notebook": {
     "kernelName": "pwsh"
    },
    "vscode": {
     "languageId": "polyglot-notebook"
    }
   },
   "outputs": [],
   "source": [
    "az apic api register -g $resourceGroupName -s $apicResourceName --api-location \"petstore.yaml\" --environment-name prod"
   ]
  },
  {
   "cell_type": "markdown",
   "metadata": {},
   "source": [
    "### 5️⃣. 2 Update the API metadata\n",
    "\n",
    "[Updates the API](https://learn.microsoft.com/en-us/cli/azure/apic/api?view=azure-cli-latest#az-apic-api-update) with custom properties defined in the `apiCustomPropertiesJson` variable. "
   ]
  },
  {
   "cell_type": "code",
   "execution_count": null,
   "metadata": {
    "dotnet_interactive": {
     "language": "pwsh"
    },
    "polyglot_notebook": {
     "kernelName": "pwsh"
    },
    "vscode": {
     "languageId": "polyglot-notebook"
    }
   },
   "outputs": [],
   "source": [
    "$apiCustomPropertiesJson = ConvertTo-Json -InputObject $apiCustomProperties -Depth 10 -Compress\n",
    "az apic api update -g $resourceGroupName -s $apicResourceName --api-id petstore --custom-properties $apiCustomPropertiesJson.replace('\"','\\\"')"
   ]
  },
  {
   "cell_type": "markdown",
   "metadata": {},
   "source": [
    "### 6️⃣. 1 Register another API with custom metadata using individual commands\n",
    "\n",
    "With the [`create` command](https://learn.microsoft.com/en-us/cli/azure/apic/api?view=azure-cli-latest#az-apic-api-create) we will add a new API identified by the `api-id` parameter, and details such as `title`, `contacts`, `license`, `summary` and `custom properties`.\n",
    "\n",
    "The `type` accepted values are: graphql, grpc, rest, soap, webhook, websocket"
   ]
  },
  {
   "cell_type": "code",
   "execution_count": null,
   "metadata": {
    "dotnet_interactive": {
     "language": "pwsh"
    },
    "polyglot_notebook": {
     "kernelName": "pwsh"
    },
    "vscode": {
     "languageId": "polyglot-notebook"
    }
   },
   "outputs": [],
   "source": [
    " $apiCustomPropertiesJson = ConvertTo-Json -InputObject $apiCustomProperties -Depth 10 -Compress\n",
    " az apic api create -g $resourceGroupName -s $apicResourceName --api-id \"another-petstore\" --type REST `\n",
    "       --title \"Another petstore\" --description \"This is a sample Pet Store Server based on the OpenAPI 3.0 specification.\" `\n",
    "       --contacts '[{\\\"name\\\":\\\"apiteam\\\",\\\"email\\\":\\\"apiteam@swagger.io\\\"}]' `\n",
    "       --license '{\\\"name\\\":\\\"Apache 2.0\\\",\\\"url\\\":\\\"http://www.apache.org/licenses/LICENSE-2.0.html\\\"}' `\n",
    "       --summary \"This is a sample Pet Store Server based on the OpenAPI 3.0 specification.\" `\n",
    "       --custom-properties $apiCustomPropertiesJson.replace('\"','\\\"')"
   ]
  },
  {
   "cell_type": "markdown",
   "metadata": {},
   "source": [
    "### 6️⃣. 2 Add a version to the API\n",
    "\n",
    "An API can have multiple versions. We will [create a new version](https://learn.microsoft.com/en-us/cli/azure/apic/api/version?view=azure-cli-latest#az-apic-api-version-create) identified by the `version-id`, with a `title` and a `lifecycle-stage`.\n",
    "\n",
    "The `lifecycle-stage` can have one of the following values:\n",
    "- design\n",
    "- development\n",
    "- testing\n",
    "- preview\n",
    "- production\n",
    "- deprecated\n",
    "- retired"
   ]
  },
  {
   "cell_type": "code",
   "execution_count": null,
   "metadata": {
    "dotnet_interactive": {
     "language": "pwsh"
    },
    "polyglot_notebook": {
     "kernelName": "pwsh"
    },
    "vscode": {
     "languageId": "polyglot-notebook"
    }
   },
   "outputs": [],
   "source": [
    "az apic api version create -g $resourceGroupName -s $apicResourceName --api-id \"another-petstore\" --version-id \"1-0-11\" --title \"1.0.11\" `\n",
    "      --lifecycle-stage \"production\""
   ]
  },
  {
   "cell_type": "markdown",
   "metadata": {},
   "source": [
    "### 6️⃣. 3 Add a definition to the API version\n",
    "\n",
    "An API version can have multiple definitions. We will [create a new definition](https://learn.microsoft.com/en-us/cli/azure/apic/api/definition?view=azure-cli-latest#az-apic-api-definition-create) identified by the `definition-id`, with a `title` and a `description`."
   ]
  },
  {
   "cell_type": "code",
   "execution_count": null,
   "metadata": {
    "dotnet_interactive": {
     "language": "pwsh"
    },
    "polyglot_notebook": {
     "kernelName": "pwsh"
    },
    "vscode": {
     "languageId": "polyglot-notebook"
    }
   },
   "outputs": [],
   "source": [
    "az apic api definition create -g $resourceGroupName -s $apicResourceName --api-id \"another-petstore\" `\n",
    "    --version-id \"1-0-11\" --definition-id \"openapi\" --title \"OpenAPI\" --description \"OpenAPI spec\""
   ]
  },
  {
   "cell_type": "markdown",
   "metadata": {},
   "source": [
    "### 6️⃣. 4 Import the specification to the API version definition\n",
    "\n",
    "Now we will [import the specification](https://learn.microsoft.com/en-us/cli/azure/apic/api/definition?view=azure-cli-latest#az-apic-api-definition-import-specification) by setting the `specification` property with `name` and `version`.\n",
    "\n",
    "The allowed values for the `specification name` are: \n",
    "- OpenAI\n",
    "- WSDL\n",
    "- WADL\n",
    "- GraphQL\n",
    "- gRPC\n",
    "- AsyncAPI\n",
    "- RAML\n",
    "- Other"
   ]
  },
  {
   "cell_type": "code",
   "execution_count": null,
   "metadata": {
    "dotnet_interactive": {
     "language": "pwsh"
    },
    "polyglot_notebook": {
     "kernelName": "pwsh"
    },
    "vscode": {
     "languageId": "polyglot-notebook"
    }
   },
   "outputs": [],
   "source": [
    "az apic api definition import-specification -g $resourceGroupName -s $apicResourceName `\n",
    "        --api-id \"another-petstore\" --version-id \"1-0-11\" --definition-id \"openapi\" `\n",
    "        --specification '{\\\"name\\\":\\\"openapi\\\",\\\"version\\\":\\\"3.0.3\\\"}' `\n",
    "        --format \"link\" --value 'https://raw.githubusercontent.com/swagger-api/swagger-petstore/master/src/main/resources/openapi.yaml'"
   ]
  },
  {
   "cell_type": "markdown",
   "metadata": {},
   "source": [
    "### 6️⃣. 5 Create a deployment to link the API version definition with an environment\n",
    "\n",
    "To [create a deployment](https://learn.microsoft.com/en-us/cli/azure/apic/api/deployment?view=azure-cli-latest#az-apic-api-deployment-create) we specify the `deployment-id`, `title`, `description`, `api-id`, `environment-id`, `server properties` and `custom properties`"
   ]
  },
  {
   "cell_type": "code",
   "execution_count": null,
   "metadata": {
    "dotnet_interactive": {
     "language": "pwsh"
    },
    "polyglot_notebook": {
     "kernelName": "pwsh"
    },
    "vscode": {
     "languageId": "polyglot-notebook"
    }
   },
   "outputs": [],
   "source": [
    "$deploymentCustomPropertiesJson = ConvertTo-Json -InputObject $deploymentCustomProperties -Depth 10 -Compress\n",
    "az apic api deployment create -g $resourceGroupName -s $apicResourceName --deployment-id \"prod\" `\n",
    "        --title \"Production deployment\" --description \"Petstore production deployment.\" --api-id \"another-petstore\" `\n",
    "        --environment-id \"/workspaces/default/environments/prod\" `\n",
    "        --definition-id \"/workspaces/default/apis/another-petstore/versions/1-0-11/definitions/openapi\" `\n",
    "        --server '{\\\"runtimeUri\\\":[\\\"https://petstore3.swagger.io/api/v3\\\"]}' `\n",
    "        --custom-properties $deploymentCustomPropertiesJson.replace('\"','\\\"')"
   ]
  },
  {
   "cell_type": "markdown",
   "metadata": {},
   "source": [
    "### 7️⃣ Discover the APIs that were just imported\n",
    "\n",
    "You can discover the APIs with fhe following methods:\n",
    "- With the Azure Portal\n",
    "- With the [self-hosted API Center Portal](https://learn.microsoft.com/en-us/azure/api-center/enable-api-center-portal)\n",
    "- With the [VS Code extension](https://learn.microsoft.com/en-us/azure/api-center/use-vscode-extension-copilot) that is integrated with GitHub Copilot Chat.\n",
    "- With the CLI, the service REST API and more\n",
    "\n",
    "Here we will use the [list command](https://learn.microsoft.com/en-us/cli/azure/apic/api?view=azure-cli-latest#az-apic-api-list) to display the APIs that we have just imported. \n"
   ]
  },
  {
   "cell_type": "code",
   "execution_count": 27,
   "metadata": {
    "dotnet_interactive": {
     "language": "pwsh"
    },
    "polyglot_notebook": {
     "kernelName": "pwsh"
    },
    "vscode": {
     "languageId": "polyglot-notebook"
    }
   },
   "outputs": [
    {
     "name": "stdout",
     "output_type": "stream",
     "text": [
      "Name      Title     Kind    ContantEmail\n",
      "--------  --------  ------  ------------------\n",
      "petstore  petstore  rest    apiteam@swagger.io\n"
     ]
    }
   ],
   "source": [
    "az apic api list -g $resourceGroupName -s $apicResourceName --query \"[?title == 'petstore'].{Name:name, Title:title, Kind:kind, ContactEmail:contacts[0].email}\" -o table"
   ]
  },
  {
   "cell_type": "markdown",
   "metadata": {},
   "source": [
    "### 🗑️ Clean up resources\n",
    "\n",
    "When you're finished with the lab, you should remove all your deployed resources from Azure to avoid extra charges and keep your Azure subscription uncluttered.\n",
    "Use the [clean-up-resources notebook](clean-up-resources.ipynb) for that."
   ]
  }
 ],
 "metadata": {
  "kernelspec": {
   "display_name": "Python 3",
   "language": "python",
   "name": "python3"
  },
  "language_info": {
   "codemirror_mode": {
    "name": "ipython",
    "version": 3
   },
   "file_extension": ".py",
   "mimetype": "text/x-python",
   "name": "python",
   "nbconvert_exporter": "python",
   "pygments_lexer": "ipython3",
   "version": "3.11.9"
  }
 },
 "nbformat": 4,
 "nbformat_minor": 2
}
