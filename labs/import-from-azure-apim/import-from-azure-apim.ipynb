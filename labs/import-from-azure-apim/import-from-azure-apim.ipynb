{
 "cells": [
  {
   "cell_type": "markdown",
   "metadata": {},
   "source": [
    "# API Center ❤️ all APIs\n",
    "\n",
    "## Import from Azure API Management\n",
    "![image](../../images/import-from-azure-apim.png)\n",
    "\n",
    "Playground to experiment importing APIs from Azure APIM into API Center. We start by creating APIM and API Center instances using [Bicep resource definition](https://learn.microsoft.com/en-us/azure/templates/microsoft.apicenter/services?pivots=deployment-language-bicep) and then we will use the [Azure CLI]((https://learn.microsoft.com/en-us/cli/azure/apic?view=azure-cli-latest)) to import the APIs from APIM.\n",
    "\n",
    "▶️ Set the kernel to `.NET Interactive` before running the PowerShell scripts.\n",
    "\n",
    "💡 Every step outlined below leverages the power of PowerShell scripts. This is designed so you can seamlessly integrate them into your automation workflows, CI/CD pipelines, webhooks, and more.\n",
    "\n",
    "### Learning Objectives - Upon completing this lab, you should be able to:\n",
    "- Deploy Azure API Management and Azure API Center using Bicep. With a role assignment allowing API Center to read APIs from APIM.\n",
    "- Deploy sample APIs in APIM.\n",
    "- Configure the API Center metadata scheme for APIs, Environments and Deployments.\n",
    "- Understand the Azure CLI commands to manage Azure API Center. [Full list of commands available here](https://learn.microsoft.com/en-us/cli/azure/apic?view=azure-cli-latest).\n",
    "- Execute the [import-from-apim](https://learn.microsoft.com/en-us/cli/azure/apic/service?view=azure-cli-latest#az-apic-service-import-from-apim) command.\n",
    "- List the APIs imported.\n",
    "\n",
    "### Prerequisites\n",
    "- Install or update to the latest [.NET 8 SDK](https://dotnet.microsoft.com/en-us/download)\n",
    "- Install or update to the latest [Visual Studio Code](https://code.visualstudio.com/)\n",
    "- Install the [Polyglot Notebooks extension](https://marketplace.visualstudio.com/items?itemName=ms-dotnettools.dotnet-interactive-vscode) from the VS Code marketplace\n",
    "- Install or update to the latest [PowerShell](https://learn.microsoft.com/en-us/powershell/scripting/install/installing-powershell)\n",
    "- Install or update to the latest [Azure CLI](https://learn.microsoft.com/en-us/cli/azure/install-azure-cli). The Azure API Center extension will automatically install the first time you run an [az apic](https://learn.microsoft.com/en-us/cli/azure/apic?view=azure-cli-latest) command.\n",
    "- [An Azure Subscription](https://azure.microsoft.com/en-us/free/) with Contributor permissions\n",
    "- [Sign in to Azure with Azure CLI](https://learn.microsoft.com/en-us/cli/azure/authenticate-azure-cli-interactively)\n",
    "- [Register the Microsoft.ApiCenter provider](https://learn.microsoft.com/en-us/azure/api-center/set-up-api-center-azure-cli#register-the-microsoftapicenter-provider)\n",
    "\n",
    "The [Oficial documentation](https://learn.microsoft.com/en-us/azure/api-center/import-api-management-apis?tabs=portal) describes in detail the process."
   ]
  },
  {
   "cell_type": "markdown",
   "metadata": {},
   "source": [
    "### 0️⃣ Initialize notebook variables\n",
    "\n",
    "- Resources will be suffixed by a unique string based on your subscription id\n",
    "- Adjust the APIC location parameter according your preferences and [region availability.](https://learn.microsoft.com/en-us/azure/api-center/overview#available-regions) \n"
   ]
  },
  {
   "cell_type": "code",
   "execution_count": null,
   "metadata": {
    "dotnet_interactive": {
     "language": "pwsh"
    },
    "polyglot_notebook": {
     "kernelName": "pwsh"
    },
    "vscode": {
     "languageId": "polyglot-notebook"
    }
   },
   "outputs": [],
   "source": [
    "\n",
    "$deploymentName = Split-Path -Path (Get-Location) -Leaf\n",
    "$resourceGroupName = \"lab-$deploymentName\" # change the name to match your naming style\n",
    "$resourceGroupLocation = \"westeurope\"\n",
    "$apicResourceNamePrefix = \"apic\"\n",
    "$apicResourceSku = \"free\"\n",
    "$apicResourceTags = @{\n",
    "  \"lab\" = $deploymentName\n",
    "}\n",
    "$apimResourceNamePrefix = \"apim\"\n",
    "$apimResourceLocation = \"westeurope\"\n",
    "$apimResourceSku = \"Basicv2\"\n",
    "\n",
    "# the following metadata will be created during the deployment\n",
    "$metadata = @(\n",
    "  @{\n",
    "    \"name\" = 'termsOfService'\n",
    "    \"schema\" = '{\"title\":\"termsOfService\",\"description\":\"The terms of service URL for using the API\",\"type\":\"string\",\"format\":\"uri\"}'\n",
    "    \"assignedTo\" = @(\n",
    "      @{\n",
    "        \"entity\" = 'api'\n",
    "        \"required\" = $false\n",
    "      }\n",
    "    )\n",
    "  },\n",
    "  @{\n",
    "    \"name\" = 'externalDocs'\n",
    "    \"schema\" = '{\"title\":\"externalDocs\",\"description\":\"External Documents that describe the API\",\"type\":\"object\",\"properties\":{\"description\":{\"title\":\"description\",\"description\":\"Description of the External Documents\",\"type\":\"string\"},\"url\":{\"title\":\"url\",\"description\":\"The URL to reference the external documents\",\"type\":\"string\",\"format\":\"uri\"}},\"required\":[\"url\"]}'\n",
    "    \"assignedTo\" = @(\n",
    "      @{\n",
    "        \"entity\" = 'api'\n",
    "        \"required\" = $false\n",
    "      }\n",
    "    )\n",
    "  },\n",
    "  @{\n",
    "    \"name\" = 'sourceControl'\n",
    "    \"schema\" = '{\"title\":\"sourceControl\",\"description\":\"Source Control Info\",\"type\":\"object\",\"properties\":{\"type\":{\"type\":\"string\",\"title\":\"type\",\"description\":\"Source Control System type\",\"oneOf\":[{\"const\":\"GitHub\",\"description\":\"\"},{\"const\":\"GitLab\",\"description\":\"\"},{\"const\":\"Bitbucket\",\"description\":\"\"},{\"const\":\"Other\",\"description\":\"\"}]},\"repository\":{\"title\":\"repository\",\"description\":\"URL for the repository\",\"type\":\"string\",\"format\":\"uri\"},\"url\":{\"title\":\"url\",\"description\":\"Full URL for the API definition stored in the source control system\",\"type\":\"string\",\"format\":\"uri\"}},\"required\":[\"type\",\"repository\",\"url\"]}'\n",
    "    \"assignedTo\" = @(\n",
    "      @{\n",
    "        \"entity\" = 'api'\n",
    "        \"required\" = $false\n",
    "      }\n",
    "    )\n",
    "  },\n",
    "  @{\n",
    "    \"name\" = 'securitySchemes'\n",
    "    \"schema\" = '{\"title\":\"securitySchemes\",\"description\":\"API Security Schemes\",\"type\":\"array\",\"items\":{\"type\":\"object\",\"properties\":{\"name\":{\"title\":\"name\",\"description\":\"Name of the API Security Scheme\",\"type\":\"string\"},\"type\":{\"type\":\"string\",\"title\":\"type\",\"description\":\"The Type of the API Security Scheme\",\"oneOf\":[{\"const\":\"http\",\"description\":\"Basic, Bearer and other HTTP authentications schemes\"},{\"const\":\"apiKey\",\"description\":\"API keys and cookie authentication\"},{\"const\":\"oauth2\",\"description\":\"OAuth 2.0 is the industry-standard protocol for authorization.\"},{\"const\":\"openIdConnect \",\"description\":\"OpenID Connect Discovery\"}]},\"authorizationurl\":{\"title\":\"authorizationUrl\",\"type\":\"string\",\"format\":\"uri\"}},\"required\":[\"name\",\"type\"]}}'\n",
    "    \"assignedTo\" = @(\n",
    "      @{\n",
    "        \"entity\" = 'deployment'\n",
    "        \"required\" = $false\n",
    "      }\n",
    "    )\n",
    "  },\n",
    "  @{\n",
    "    \"name\" = 'host'\n",
    "    \"schema\" = '{\"title\":\"host\",\"description\":\"The name of the host that is hosting the API\",\"type\":\"string\"}'\n",
    "    \"assignedTo\" = @(\n",
    "      @{\n",
    "        \"entity\" = 'environment'\n",
    "        \"required\" = $false\n",
    "      }\n",
    "    )\n",
    "  }\n",
    ")\n",
    "\n",
    "# the following environment(s) will be created during the deployment\n",
    "$environments = @(\n",
    "  @{\n",
    "    \"title\" = 'prod'\n",
    "    \"kind\" = 'production'\n",
    "    \"description\" = 'Production Environment'\n",
    "    \"server\" = @{\n",
    "        \"type\" = 'Kubernetes' \n",
    "        \"managementPortalUri\" = 'https://swagger.io/tools/swaggerhub/'\n",
    "    }\n",
    "    \"onboarding\" = @{\n",
    "        \"developerPortalUri\" = 'https://swagger.io/tools/swaggerhub/features/swaggerhub-portal/'\n",
    "        \"instructions\" = 'Sign in and access the developer portal to get started with the API'\n",
    "    }\n",
    "    \"customProperties\" = @{ \n",
    "    }\n",
    "  }\n",
    ")\n",
    "\n",
    "$environmentCustomProperties = @{\n",
    "    \"host\" = \"petstore3.swagger.io\"\n",
    "}\n",
    "\n",
    "$apiCustomProperties = @{\n",
    "    \"termsOfService\" = \"http://swagger.io/terms/\"\n",
    "    \"externalDocs\" = @{\n",
    "        \"description\" = \"Find out more about Swagger\"\n",
    "        \"url\" = \"http://swagger.io\"\n",
    "    }\n",
    "    \"sourceControl\" = @{\n",
    "        \"type\" = \"GitHub\"\n",
    "        \"repository\" = \"https://github.com/swagger-api/swagger-petstore\"\n",
    "        \"url\" = \"https://github.com/swagger-api/swagger-petstore/blob/master/src/main/resources/openapi.yaml\"\n",
    "    }\n",
    "}\n",
    "\n",
    "$deploymentCustomProperties = @{\n",
    "    \"securitySchemes\" = @(\n",
    "        @{\n",
    "          \"name\" = \"petstore_auth\"\n",
    "          \"type\" = \"oauth2\"\n",
    "          \"authorizationurl\" = \"https://petstore3.swagger.io/oauth/authorize\"\n",
    "        }\n",
    "    )\n",
    "}\n",
    "\n",
    "$apisConfig = @(\n",
    "  @{\n",
    "    \"name\" = 'petstore'\n",
    "    \"type\" = 'http'\n",
    "    \"revision\" = '1-0-20-SNAPSHOT'\n",
    "    \"revisionDescription\" = '1.0.20-SNAPSHOT'\n",
    "    \"displayName\" = 'Petstore'\n",
    "    \"description\" = 'Sample Pet Store Server'\n",
    "    'contact' = @{\n",
    "      'name' = 'API Team'\n",
    "      'email' = 'apiteam@swagger.io'\n",
    "      'url' = 'http://swagger.io'\n",
    "    }\n",
    "    'license' = @{\n",
    "      'name' = 'Apache 2.0'\n",
    "      'url' = 'http://www.apache.org/licenses/LICENSE-2.0.html'\n",
    "    }\n",
    "    'format' = 'openapi-link'\n",
    "    \"path\" = 'petstore'\n",
    "    'termsOfServiceUrl' = 'http://swagger.io/terms/'\n",
    "    \"serviceUrl\" = 'https://petstore3.swagger.io/api/v3'\n",
    "    \"specURL\" = 'https://raw.githubusercontent.com/swagger-api/swagger-petstore/master/src/main/resources/openapi.yaml'\n",
    "  },\n",
    "  @{\n",
    "    \"name\" = 'openai'\n",
    "    \"type\" = 'http'\n",
    "    \"revision\" = '2024-02-01'\n",
    "    \"revisionDescription\" = '2024-02-01'\n",
    "    \"displayName\" = 'OpenAI'\n",
    "    \"description\" = 'OpenAI inference API'\n",
    "    'contact' = @{\n",
    "      'name' = 'OpenAI Team'\n",
    "      'email' = 'openai@microsoft.com'\n",
    "      'url' = 'http://www.microsoft.com'\n",
    "    }\n",
    "    'license' = @{\n",
    "      'name' = 'MIT License'\n",
    "      'url' = 'Http://opensource.org/licenses/MIT'\n",
    "    }\n",
    "    'format' = 'openapi-link'\n",
    "    \"path\" = 'openai'\n",
    "    'termsOfServiceUrl' = 'https://learn.microsoft.com/en-us/legal/cognitive-services/openai/code-of-conduct'\n",
    "    \"serviceUrl\" = 'https://your-resource-name.openai.azure.com'\n",
    "    \"specURL\" = 'https://raw.githubusercontent.com/Azure/azure-rest-api-specs/main/specification/cognitiveservices/data-plane/AzureOpenAI/inference/stable/2024-02-01/inference.json'\n",
    "  }\n",
    ")\n",
    "\n",
    "Write-Output \"✅ Variables initialized ⌚ $(Get-Date -Format 'HH:mm:ss')\"\n"
   ]
  },
  {
   "cell_type": "markdown",
   "metadata": {},
   "source": [
    "### 1️⃣ Create the Azure Resource Group\n",
    "All resources deployed in this lab will be created in the specified resource group. Skip this step if you want to use an existing resource group."
   ]
  },
  {
   "cell_type": "code",
   "execution_count": null,
   "metadata": {
    "dotnet_interactive": {
     "language": "pwsh"
    },
    "polyglot_notebook": {
     "kernelName": "pwsh"
    },
    "vscode": {
     "languageId": "polyglot-notebook"
    }
   },
   "outputs": [],
   "source": [
    "$resourceGroupOutput = az group create --name $resourceGroupName --location $resourceGroupLocation\n",
    "\n",
    "if ($LASTEXITCODE -ne 0) {\n",
    "    Write-Output $resourceGroupOutput\n",
    "} else {\n",
    "    Write-Output \"✅ Azure Resource Grpup $resourceGroupName created ⌚ $(Get-Date -Format 'HH:mm:ss')\"\n",
    "}"
   ]
  },
  {
   "cell_type": "markdown",
   "metadata": {},
   "source": [
    "### 2️⃣ Create deployment using 🦾 Bicep\n",
    "\n",
    "This lab uses [Bicep](https://learn.microsoft.com/en-us/azure/azure-resource-manager/bicep/overview?tabs=bicep) to declarative define all the resources that will be deployed. Change the parameters or the [main.bicep](main.bicep) directly to try different configurations. "
   ]
  },
  {
   "cell_type": "code",
   "execution_count": null,
   "metadata": {
    "dotnet_interactive": {
     "language": "pwsh"
    },
    "polyglot_notebook": {
     "kernelName": "pwsh"
    },
    "vscode": {
     "languageId": "polyglot-notebook"
    }
   },
   "outputs": [],
   "source": [
    "$bicepParameters = @{\n",
    "    \"`$schema\" = \"https://schema.management.azure.com/schemas/2019-04-01/deploymentParameters.json#\"\n",
    "    \"contentVersion\" = \"1.0.0.0\"\n",
    "    \"parameters\" = @{\n",
    "        \"apicResourceNamePrefix\" = @{ \"value\" = $apicResourceNamePrefix }\n",
    "        \"apicResourceTags\" = @{ \"value\" = $apicResourceTags }\n",
    "        \"apicMetadataSchema\" = @{ \"value\" = $metadata }\n",
    "        \"apicEnvironments\" = @{ \"value\" = $environments }\n",
    "        \"apimResourceNamePrefix\" = @{ \"value\" = $apimResourceNamePrefix }\n",
    "        \"apimResourceLocation\" = @{ \"value\" = $apimResourceLocation }\n",
    "        \"apimResourceSku\" = @{ \"value\" = $apimResourceSku }\n",
    "        \"apisConfig\" = @{ \"value\" = $apisConfig }\n",
    "    }\n",
    "}\n",
    "\n",
    "$bicepParametersJson = ConvertTo-Json -InputObject $bicepParameters -Depth 10\n",
    "Set-Content -Path \"params.json\" -Value $bicepParametersJson\n",
    "\n",
    "# Execute the Azure CLI command to create the deployment\n",
    "az deployment group create --name $deploymentName --resource-group $resourceGroupName --template-file \"main.bicep\" --parameters \"params.json\"\n",
    "\n"
   ]
  },
  {
   "cell_type": "markdown",
   "metadata": {},
   "source": [
    "### 3️⃣ Get the deployment outputs\n",
    "\n",
    "We will set the `apicResourceName` variable with the value that was returned from the deployment "
   ]
  },
  {
   "cell_type": "code",
   "execution_count": null,
   "metadata": {
    "dotnet_interactive": {
     "language": "pwsh"
    },
    "polyglot_notebook": {
     "kernelName": "pwsh"
    },
    "vscode": {
     "languageId": "polyglot-notebook"
    }
   },
   "outputs": [],
   "source": [
    "$deploymentOutput = az deployment group show --name $deploymentName -g $resourceGroupName --query properties.outputs.apicResourceName.value -o json\n",
    "if ($LASTEXITCODE -ne 0) {\n",
    "    Write-Output $deploymentOutput\n",
    "} else {\n",
    "    $apicResourceName = $deploymentOutput | ConvertFrom-Json\n",
    "}\n",
    "Write-Output \"👉🏻 API Center name: $apicResourceName\"\n",
    "\n",
    "$deploymentOutput = az deployment group show --name $deploymentName -g $resourceGroupName --query properties.outputs.apimResourceId.value -o json\n",
    "if ($LASTEXITCODE -ne 0) {\n",
    "    Write-Output $deploymentOutput\n",
    "} else {\n",
    "    $apimResourceId = $deploymentOutput | ConvertFrom-Json\n",
    "}\n",
    "Write-Output \"👉🏻 API Management id: $apimResourceId\""
   ]
  },
  {
   "cell_type": "markdown",
   "metadata": {},
   "source": [
    "### 4️⃣ Update the environment metadata\n",
    "\n",
    "We will [update the enviroment](https://learn.microsoft.com/en-us/cli/azure/apic/environment?view=azure-cli-latest#az-apic-environment-update) with the `custom properties` defined in the variable `environmentCustomProperties`"
   ]
  },
  {
   "cell_type": "code",
   "execution_count": null,
   "metadata": {
    "dotnet_interactive": {
     "language": "pwsh"
    },
    "polyglot_notebook": {
     "kernelName": "pwsh"
    },
    "vscode": {
     "languageId": "polyglot-notebook"
    }
   },
   "outputs": [],
   "source": [
    "$environmentCustomPropertiesJson = ConvertTo-Json -InputObject $environmentCustomProperties -Depth 10 -Compress\n",
    "az apic environment update -g $resourceGroupName -s $apicResourceName --environment-id \"prod\" `\n",
    "            --custom-properties $environmentCustomPropertiesJson.replace('\"','\\\"')"
   ]
  },
  {
   "cell_type": "markdown",
   "metadata": {},
   "source": [
    "### 5️⃣ Import the Azure API Management APIs into Azure API Center\n",
    "\n",
    "We will use the [import-from-apim](https://learn.microsoft.com/en-us/cli/azure/apic/service?view=azure-cli-latest#az-apic-service-import-from-apim) command with the wildcard to import all the APIs."
   ]
  },
  {
   "cell_type": "code",
   "execution_count": null,
   "metadata": {
    "dotnet_interactive": {
     "language": "pwsh"
    },
    "polyglot_notebook": {
     "kernelName": "pwsh"
    },
    "vscode": {
     "languageId": "polyglot-notebook"
    }
   },
   "outputs": [],
   "source": [
    "az apic service import-from-apim -g $resourceGroupName -s $apicResourceName --source-resource-ids \"$apimResourceId/apis/*\""
   ]
  },
  {
   "cell_type": "markdown",
   "metadata": {},
   "source": [
    "### 6️⃣ Discover the APIs that were just imported\n",
    "\n",
    "You can discover the APIs with fhe following methods:\n",
    "- With the Azure Portal\n",
    "- With the [self-hosted API Center Portal](https://learn.microsoft.com/en-us/azure/api-center/enable-api-center-portal)\n",
    "- With the [VS Code extension](https://learn.microsoft.com/en-us/azure/api-center/use-vscode-extension-copilot) that is integrated with GitHub Copilot Chat.\n",
    "- With the CLI, the service REST API and more\n",
    "\n",
    "Here we will use the [list command](https://learn.microsoft.com/en-us/cli/azure/apic/api?view=azure-cli-latest#az-apic-api-list) to display the APIs that we have just imported. \n"
   ]
  },
  {
   "cell_type": "code",
   "execution_count": null,
   "metadata": {
    "dotnet_interactive": {
     "language": "pwsh"
    },
    "polyglot_notebook": {
     "kernelName": "pwsh"
    },
    "vscode": {
     "languageId": "polyglot-notebook"
    }
   },
   "outputs": [],
   "source": [
    "az apic api list -g $resourceGroupName -s $apicResourceName --query \"[].{Name:name, Title:title, Kind:kind, ContantEmail:contacts[0].email}\" -o table"
   ]
  },
  {
   "cell_type": "markdown",
   "metadata": {},
   "source": [
    "### 🗑️ Clean up resources\n",
    "\n",
    "When you're finished with the lab, you should remove all your deployed resources from Azure to avoid extra charges and keep your Azure subscription uncluttered.\n",
    "Use the [clean-up-resources notebook](clean-up-resources.ipynb) for that."
   ]
  }
 ],
 "metadata": {
  "kernelspec": {
   "display_name": "Python 3",
   "language": "python",
   "name": "python3"
  },
  "language_info": {
   "codemirror_mode": {
    "name": "ipython",
    "version": 3
   },
   "file_extension": ".py",
   "mimetype": "text/x-python",
   "name": "python",
   "nbconvert_exporter": "python",
   "pygments_lexer": "ipython3",
   "version": "3.11.9"
  }
 },
 "nbformat": 4,
 "nbformat_minor": 2
}
