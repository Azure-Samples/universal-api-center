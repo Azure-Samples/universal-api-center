{
 "cells": [
  {
   "cell_type": "markdown",
   "metadata": {},
   "source": [
    "# API Center ❤️ all APIs\n",
    "\n",
    "## Import from Apigee API Management\n",
    "![image](../../images/import-from-gcp.png)\n",
    "\n",
    "Playground to experiment importing APIs from Apigee. We start by creating an API Center instance using [Bicep resource definition](https://learn.microsoft.com/en-us/azure/templates/microsoft.apicenter/services?pivots=deployment-language-bicep) and then we will use the [GCP CLI](https://cloud.google.com/sdk/docs/install-sdk) to export the Apigee APIs and the [Azure CLI](https://learn.microsoft.com/en-us/cli/azure/apic?view=azure-cli-latest) to import the APIs into API Center.\n",
    "\n",
    "💡 Every step outlined below leverages the power of PowerShell scripts. This is designed so you can seamlessly integrate them into your automation workflows, CI/CD pipelines, webhooks, and more.\n",
    "\n",
    "### Learning Objectives - Upon completing this lab, you should be able to:\n",
    "- Deploy Azure API Center using Bicep.\n",
    "- Import environments from Apigee\n",
    "- Import APIs from Apigee\n",
    "- Import API deployments from Apigee\n",
    "- Search and discover the APIs registered in API Center.\n",
    "\n",
    "### Prerequisites\n",
    "- Install or update to the latest [.NET 8 SDK](https://dotnet.microsoft.com/en-us/download)\n",
    "- Install or update to the latest [Visual Studio Code](https://code.visualstudio.com/)\n",
    "- Install the [Polyglot Notebooks extension](https://marketplace.visualstudio.com/items?itemName=ms-dotnettools.dotnet-interactive-vscode) from the VS Code marketplace\n",
    "- Install or update to the latest [PowerShell](https://learn.microsoft.com/en-us/powershell/scripting/install/installing-powershell)\n",
    "- Install or update to the latest [Azure CLI](https://learn.microsoft.com/en-us/cli/azure/install-azure-cli). The Azure API Center extension will automatically install the first time you run an [az apic](https://learn.microsoft.com/en-us/cli/azure/apic?view=azure-cli-latest) command.\n",
    "- [An Azure Subscription](https://azure.microsoft.com/en-us/free/) with Contributor permissions\n",
    "- [Sign in to Azure with Azure CLI](https://learn.microsoft.com/en-us/cli/azure/authenticate-azure-cli-interactively)\n",
    "- Install or update to the latest [GCP CLI](https://cloud.google.com/sdk/docs/install-sdk) and set your Apigee project\n"
   ]
  },
  {
   "cell_type": "markdown",
   "metadata": {},
   "source": [
    "### 0️⃣ Initialize notebook variables\n",
    "\n",
    "- Resources will be suffixed by a unique string based on your subscription id\n",
    "- Adjust the APIC location parameter according your preferences and [region availability.](https://learn.microsoft.com/en-us/azure/api-center/overview#available-regions) \n"
   ]
  },
  {
   "cell_type": "code",
   "execution_count": null,
   "metadata": {
    "dotnet_interactive": {
     "language": "pwsh"
    },
    "polyglot_notebook": {
     "kernelName": "pwsh"
    },
    "vscode": {
     "languageId": "polyglot-notebook"
    }
   },
   "outputs": [],
   "source": [
    "\n",
    "$deploymentName = Split-Path -Path (Get-Location) -Leaf\n",
    "$resourceGroupName = \"lab-$deploymentName\" # change the name to match your naming style\n",
    "$resourceGroupLocation = \"westeurope\"\n",
    "$apicResourceNamePrefix = \"apic\"\n",
    "$apicResourceSku = \"free\"\n",
    "$apicResourceTags = @{\n",
    "  \"lab\" = $deploymentName\n",
    "}\n",
    "\n",
    "# the following metadata will be created during the Bicep deployment\n",
    "$metadata = @(\n",
    "  @{\n",
    "    \"name\" = 'createdAt'\n",
    "    \"schema\" = '{\"title\":\"createdAt\",\"description\":\"When the API was created in Apigee\",\"type\":\"string\"}'\n",
    "    \"assignedTo\" = @(\n",
    "      @{\n",
    "        \"entity\" = 'api'\n",
    "        \"required\" = $false\n",
    "      }\n",
    "    )\n",
    "  },\n",
    "  @{\n",
    "    \"name\" = 'deployStartTime'\n",
    "    \"schema\" = '{\"title\":\"deployStartTime\",\"description\":\"When the API was deployed in Apigee\",\"type\":\"string\"}'\n",
    "    \"assignedTo\" = @(\n",
    "      @{\n",
    "        \"entity\" = 'deployment'\n",
    "        \"required\" = $false\n",
    "      }\n",
    "    )\n",
    "  }\n",
    ")\n",
    "\n",
    "# the following environment(s) will be created during the deployment\n",
    "$environments = @(\n",
    ")\n",
    "\n",
    "Write-Output \"✅ Variables initialized ⌚ $(Get-Date -Format 'HH:mm:ss')\"\n"
   ]
  },
  {
   "cell_type": "markdown",
   "metadata": {},
   "source": [
    "### 1️⃣ Create the Azure Resource Group\n",
    "All resources deployed in this lab will be created in the specified resource group. Skip this step if you want to use an existing resource group."
   ]
  },
  {
   "cell_type": "code",
   "execution_count": null,
   "metadata": {
    "dotnet_interactive": {
     "language": "pwsh"
    },
    "polyglot_notebook": {
     "kernelName": "pwsh"
    },
    "vscode": {
     "languageId": "polyglot-notebook"
    }
   },
   "outputs": [],
   "source": [
    "$resourceGroupOutput = az group create --name $resourceGroupName --location $resourceGroupLocation\n",
    "\n",
    "if ($LASTEXITCODE -ne 0) {\n",
    "    Write-Output $resourceGroupOutput\n",
    "} else {\n",
    "    Write-Output \"✅ Azure Resource Grpup $resourceGroupName created ⌚ $(Get-Date -Format 'HH:mm:ss')\"\n",
    "}"
   ]
  },
  {
   "cell_type": "markdown",
   "metadata": {},
   "source": [
    "### 2️⃣ Create deployment using 🦾 Bicep\n",
    "\n",
    "This lab uses [Bicep](https://learn.microsoft.com/en-us/azure/azure-resource-manager/bicep/overview?tabs=bicep) to declarative define all the resources that will be deployed. Change the parameters or the [main.bicep](main.bicep) directly to try different configurations. "
   ]
  },
  {
   "cell_type": "code",
   "execution_count": null,
   "metadata": {
    "dotnet_interactive": {
     "language": "pwsh"
    },
    "polyglot_notebook": {
     "kernelName": "pwsh"
    },
    "vscode": {
     "languageId": "polyglot-notebook"
    }
   },
   "outputs": [],
   "source": [
    "$bicepParameters = @{\n",
    "    \"`$schema\" = \"https://schema.management.azure.com/schemas/2019-04-01/deploymentParameters.json#\"\n",
    "    \"contentVersion\" = \"1.0.0.0\"\n",
    "    \"parameters\" = @{\n",
    "        \"apicResourceNamePrefix\" = @{ \"value\" = $apicResourceNamePrefix }\n",
    "        \"apicResourceTags\" = @{ \"value\" = $apicResourceTags }\n",
    "        \"apicMetadataSchema\" = @{ \"value\" = $metadata }\n",
    "        \"apicEnvironments\" = @{ \"value\" = $environments }\n",
    "    }\n",
    "}\n",
    "\n",
    "$bicepParametersJson = ConvertTo-Json -InputObject $bicepParameters -Depth 10\n",
    "Set-Content -Path \"params.json\" -Value $bicepParametersJson\n",
    "\n",
    "# Execute the Azure CLI command to create the deployment\n",
    "az deployment group create --name $deploymentName --resource-group $resourceGroupName --template-file \"main.bicep\" --parameters \"params.json\"\n",
    "\n"
   ]
  },
  {
   "cell_type": "markdown",
   "metadata": {},
   "source": [
    "### 3️⃣ Get the deployment outputs\n",
    "\n",
    "We will set the `apicResourceName` variable with the value that was returned from the deployment "
   ]
  },
  {
   "cell_type": "code",
   "execution_count": null,
   "metadata": {
    "dotnet_interactive": {
     "language": "pwsh"
    },
    "polyglot_notebook": {
     "kernelName": "pwsh"
    },
    "vscode": {
     "languageId": "polyglot-notebook"
    }
   },
   "outputs": [],
   "source": [
    "$deploymentOutput = az deployment group show --name $deploymentName -g $resourceGroupName --query properties.outputs.apicResourceName.value -o json\n",
    "if ($LASTEXITCODE -ne 0) {\n",
    "    Write-Output $deploymentOutput\n",
    "} else {\n",
    "    $apicResourceName = $deploymentOutput | ConvertFrom-Json\n",
    "}\n",
    "Write-Output \"👉🏻 API Center name: $apicResourceName\""
   ]
  },
  {
   "cell_type": "markdown",
   "metadata": {},
   "source": [
    "### 4️⃣ Get and import Apigee environments\n",
    "\n",
    "We will start by [getting the environments from Apigee](https://cloud.google.com/sdk/gcloud/reference/apigee) and create the environments in API Center\n"
   ]
  },
  {
   "cell_type": "code",
   "execution_count": null,
   "metadata": {
    "dotnet_interactive": {
     "language": "pwsh"
    },
    "polyglot_notebook": {
     "kernelName": "pwsh"
    },
    "vscode": {
     "languageId": "polyglot-notebook"
    }
   },
   "outputs": [],
   "source": [
    "\n",
    "$apigeeEnvironmentsJson = gcloud apigee environments list --format=json\n",
    "$apigeeEnvironments = $apigeeEnvironmentsJson | ConvertFrom-Json\n",
    "foreach ($environment in $apigeeEnvironments) {\n",
    "    Write-Output \"👉🏻 Creating environment $environment\"\n",
    "    az apic environment create -g $resourceGroupName -s $apicResourceName --environment-id $environment --title $environment --type \"production\" `\n",
    "            --server '{\\\"type\\\":\\\"Apigee API Management\\\"}'\n",
    "}\n"
   ]
  },
  {
   "cell_type": "markdown",
   "metadata": {},
   "source": [
    "### 5️⃣ Import the Apigee APIs into API Center\n",
    "\n",
    "Get the APIs from Apigee and register in API Center with version and definition."
   ]
  },
  {
   "cell_type": "code",
   "execution_count": null,
   "metadata": {
    "dotnet_interactive": {
     "language": "pwsh"
    },
    "polyglot_notebook": {
     "kernelName": "pwsh"
    },
    "vscode": {
     "languageId": "polyglot-notebook"
    }
   },
   "outputs": [],
   "source": [
    "$apigeeAPIsJson = gcloud apigee apis list --format=json\n",
    "$apigeeAPIs = $apigeeAPIsJson | ConvertFrom-Json\n",
    "foreach ($apigeeAPI in $apigeeAPIs) {\n",
    "    $apiJson = gcloud apigee apis describe $apigeeAPI --format=json\n",
    "    $api = $apiJson | ConvertFrom-Json\n",
    "\n",
    "    $apiCustomProperties = @{\n",
    "        \"createdAt\" = $api.metaData.createdAt\n",
    "    }\n",
    "\n",
    "    $apiName = $api.name\n",
    "    if ($api.metaData.subType -eq \"PROXY\") {\n",
    "        $apiCustomPropertiesJson = ConvertTo-Json -InputObject $apiCustomProperties -Depth 10 -Compress\n",
    "        write-output \"👉🏻 Creating API $apiName\"\n",
    "        az apic api create -g $resourceGroupName -s $apicResourceName --api-id $apiName --type REST `\n",
    "            --title $apiName  `\n",
    "            --custom-properties $apiCustomPropertiesJson.replace('\"','\\\"')\n",
    "        foreach ($revision in $api.revision) {\n",
    "            write-output \"👉🏻 Creating version $revision of API $apiName\"\n",
    "            az apic api version create -g $resourceGroupName -s $apicResourceName --api-id $apiName --version-id \"v-$revision\" --title \"Version $revision\" `\n",
    "                        --lifecycle-stage \"production\"\n",
    "\n",
    "            write-output \"👉🏻 Creating definition for version $revision of API $apiName\"\n",
    "            az apic api definition create -g $resourceGroupName -s $apicResourceName --api-id $apiName `\n",
    "                --version-id \"v-$revision\" --definition-id \"openapi\" --title \"OpenAPI\" --description \"OpenAPI spec\"      \n",
    "\n",
    "        }\n",
    "    }\n",
    "}\n",
    "\n"
   ]
  },
  {
   "cell_type": "markdown",
   "metadata": {},
   "source": [
    "### 6️⃣ Import the Apigee API Deployments into API Center\n",
    "\n",
    "Get the Deployments from Apigee and create them in API Center"
   ]
  },
  {
   "cell_type": "code",
   "execution_count": null,
   "metadata": {
    "dotnet_interactive": {
     "language": "pwsh"
    },
    "polyglot_notebook": {
     "kernelName": "pwsh"
    },
    "vscode": {
     "languageId": "polyglot-notebook"
    }
   },
   "outputs": [],
   "source": [
    "$apigeeDeploymentsListJson = gcloud apigee deployments list --format=json\n",
    "$apigeeDeploymentsList = $apigeeDeploymentsListJson | ConvertFrom-Json\n",
    "foreach ($apigeeDeployment in $apigeeDeploymentsList) {\n",
    "    $apiName = $apigeeDeployment.apiProxy\n",
    "    $envName = $apigeeDeployment.environment\n",
    "    $apigeeDeploymentJson = gcloud apigee deployments describe --api=$apiName --environment=$envName --format=json\n",
    "\n",
    "    $apigeeDeployment = $apigeeDeploymentJson | ConvertFrom-Json\n",
    "\n",
    "    $deploymentCustomProperties = @{\n",
    "        \"deployStartTime\" = $apigeeDeployment.deployStartTime\n",
    "    }\n",
    "\n",
    "    $deploymentCustomPropertiesJson = ConvertTo-Json -InputObject $deploymentCustomProperties -Depth 10 -Compress\n",
    "    $revision = $apigeeDeployment.revision\n",
    "    write-output \"👉🏻 Creating deployment for version $revision of API $apiName\"\n",
    "    az apic api deployment create -g $resourceGroupName -s $apicResourceName --deployment-id \"$apiName-deployment\" `\n",
    "            --title \"$apiName Deployment\"  --api-id $apiName `\n",
    "            --environment-id \"/workspaces/default/environments/$envName\" `\n",
    "            --definition-id \"/workspaces/default/apis/another-petstore/versions/v-$revision/definitions/openapi\" `\n",
    "            --server '{\\\"runtimeUri\\\":[\\\"\\\"]}' `\n",
    "            --custom-properties $deploymentCustomPropertiesJson.replace('\"','\\\"')\n",
    "}"
   ]
  },
  {
   "cell_type": "markdown",
   "metadata": {},
   "source": [
    "### 7️⃣ Discover the APIs that were just imported\n",
    "\n",
    "You can discover the APIs with fhe following methods:\n",
    "- With the Azure Portal\n",
    "- With the [self-hosted API Center Portal](https://learn.microsoft.com/en-us/azure/api-center/enable-api-center-portal)\n",
    "- With the [VS Code extension](https://learn.microsoft.com/en-us/azure/api-center/use-vscode-extension-copilot) that is integrated with GitHub Copilot Chat.\n",
    "- With the CLI, the service REST API and more\n",
    "\n",
    "Here we will use the [list command](https://learn.microsoft.com/en-us/cli/azure/apic/api?view=azure-cli-latest#az-apic-api-list) to display the APIs that we have just imported. \n"
   ]
  },
  {
   "cell_type": "code",
   "execution_count": null,
   "metadata": {
    "dotnet_interactive": {
     "language": "pwsh"
    },
    "polyglot_notebook": {
     "kernelName": "pwsh"
    },
    "vscode": {
     "languageId": "polyglot-notebook"
    }
   },
   "outputs": [],
   "source": [
    "az apic api list -g $resourceGroupName -s $apicResourceName --query \"[].{Name:name, Title:title, Kind:kind, ContactEmail:contacts[0].email}\" -o table"
   ]
  },
  {
   "cell_type": "markdown",
   "metadata": {},
   "source": [
    "### 🗑️ Clean up resources\n",
    "\n",
    "When you're finished with the lab, you should remove all your deployed resources from Azure to avoid extra charges and keep your Azure subscription uncluttered.\n",
    "Use the [clean-up-resources notebook](clean-up-resources.ipynb) for that."
   ]
  }
 ],
 "metadata": {
  "kernelspec": {
   "display_name": "Python 3",
   "language": "python",
   "name": "python3"
  },
  "language_info": {
   "codemirror_mode": {
    "name": "ipython",
    "version": 3
   },
   "file_extension": ".py",
   "mimetype": "text/x-python",
   "name": "python",
   "nbconvert_exporter": "python",
   "pygments_lexer": "ipython3",
   "version": "3.11.9"
  }
 },
 "nbformat": 4,
 "nbformat_minor": 2
}
