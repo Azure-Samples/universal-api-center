{
 "cells": [
  {
   "cell_type": "markdown",
   "metadata": {},
   "source": [
    "# API Center ❤️ all APIs\n",
    "\n",
    "## Import the Banking Industry Architecture Network (BIAN) APIs\n",
    "![image](../../images/import-bian.png)\n",
    "\n",
    "Playground to experiment importing BIAN APIs from the GitHub repo.\n",
    "\n",
    "💡 Every step outlined below leverages the power of PowerShell scripts. This is designed so you can seamlessly integrate them into your automation workflows, CI/CD pipelines, webhooks, and more.\n",
    "\n",
    "### Prerequisites\n",
    "- Install or update to the latest [.NET 8 SDK](https://dotnet.microsoft.com/en-us/download)\n",
    "- Install or update to the latest [Visual Studio Code](https://code.visualstudio.com/)\n",
    "- Install the [Polyglot Notebooks extension](https://marketplace.visualstudio.com/items?itemName=ms-dotnettools.dotnet-interactive-vscode) from the VS Code marketplace\n",
    "- Install or update to the latest [PowerShell](https://learn.microsoft.com/en-us/powershell/scripting/install/installing-powershell)\n",
    "- Install or update to the latest [Azure CLI](https://learn.microsoft.com/en-us/cli/azure/install-azure-cli). The Azure API Center extension will automatically install the first time you run an [az apic](https://learn.microsoft.com/en-us/cli/azure/apic?view=azure-cli-latest) command.\n",
    "- [An Azure Subscription](https://azure.microsoft.com/en-us/free/) with Contributor permissions\n",
    "- [Sign in to Azure with Azure CLI](https://learn.microsoft.com/en-us/cli/azure/authenticate-azure-cli-interactively)\n",
    "- Install [Spectral CLI](https://github.com/stoplightio/spectral)\n"
   ]
  },
  {
   "cell_type": "markdown",
   "metadata": {},
   "source": [
    "### 0️⃣ Initialize notebook variables\n",
    "\n",
    "- Resources will be suffixed by a unique string based on your subscription id\n",
    "- Adjust the APIC location parameter according your preferences and [region availability.](https://learn.microsoft.com/en-us/azure/api-center/overview#available-regions) \n"
   ]
  },
  {
   "cell_type": "code",
   "execution_count": null,
   "metadata": {
    "dotnet_interactive": {
     "language": "pwsh"
    },
    "polyglot_notebook": {
     "kernelName": "pwsh"
    },
    "vscode": {
     "languageId": "polyglot-notebook"
    }
   },
   "outputs": [],
   "source": [
    "\n",
    "$sourceRepo = \"https://github.com/bian-official/public\"\n",
    "$maxAPIsToImport = 10\n",
    "\n",
    "$deploymentName = Split-Path -Path (Get-Location) -Leaf\n",
    "$resourceGroupName = \"lab-$deploymentName\" # change the name to match your naming style\n",
    "$resourceGroupLocation = \"westeurope\"\n",
    "$apicResourceNamePrefix = \"apic\"\n",
    "$apicResourceSku = \"free\"\n",
    "$apicResourceTags = @{\n",
    "  \"lab\" = $deploymentName\n",
    "}\n",
    "\n",
    "# the following metadata will be created during the deployment\n",
    "$metadata = @(\n",
    ")\n",
    "\n",
    "# the following environment(s) will be created during the deployment\n",
    "$environments = @(\n",
    ")\n",
    "\n",
    "\n",
    "Write-Output \"✅ Variables initialized ⌚ $(Get-Date -Format 'HH:mm:ss')\"\n"
   ]
  },
  {
   "cell_type": "markdown",
   "metadata": {},
   "source": [
    "### 1️⃣ Create the Azure Resource Group\n",
    "All resources deployed in this lab will be created in the specified resource group. Skip this step if you want to use an existing resource group."
   ]
  },
  {
   "cell_type": "code",
   "execution_count": null,
   "metadata": {
    "dotnet_interactive": {
     "language": "pwsh"
    },
    "polyglot_notebook": {
     "kernelName": "pwsh"
    },
    "vscode": {
     "languageId": "polyglot-notebook"
    }
   },
   "outputs": [],
   "source": [
    "$resourceGroupOutput = az group create --name $resourceGroupName --location $resourceGroupLocation\n",
    "\n",
    "if ($LASTEXITCODE -ne 0) {\n",
    "    Write-Output $resourceGroupOutput\n",
    "} else {\n",
    "    Write-Output \"✅ Azure Resource Grpup $resourceGroupName created ⌚ $(Get-Date -Format 'HH:mm:ss')\"\n",
    "}"
   ]
  },
  {
   "cell_type": "markdown",
   "metadata": {},
   "source": [
    "### 2️⃣ Create deployment using 🦾 Bicep\n",
    "\n",
    "This lab uses [Bicep](https://learn.microsoft.com/en-us/azure/azure-resource-manager/bicep/overview?tabs=bicep) to declarative define all the resources that will be deployed. Change the parameters or the [main.bicep](main.bicep) directly to try different configurations. "
   ]
  },
  {
   "cell_type": "code",
   "execution_count": null,
   "metadata": {
    "dotnet_interactive": {
     "language": "pwsh"
    },
    "polyglot_notebook": {
     "kernelName": "pwsh"
    },
    "vscode": {
     "languageId": "polyglot-notebook"
    }
   },
   "outputs": [],
   "source": [
    "$bicepParameters = @{\n",
    "    \"`$schema\" = \"https://schema.management.azure.com/schemas/2019-04-01/deploymentParameters.json#\"\n",
    "    \"contentVersion\" = \"1.0.0.0\"\n",
    "    \"parameters\" = @{\n",
    "        \"apicResourceNamePrefix\" = @{ \"value\" = $apicResourceNamePrefix }\n",
    "        \"apicResourceTags\" = @{ \"value\" = $apicResourceTags }\n",
    "        \"apicMetadataSchema\" = @{ \"value\" = $metadata }\n",
    "        \"apicEnvironments\" = @{ \"value\" = $environments }\n",
    "    }\n",
    "}\n",
    "\n",
    "$bicepParametersJson = ConvertTo-Json -InputObject $bicepParameters -Depth 10\n",
    "Set-Content -Path \"params.json\" -Value $bicepParametersJson\n",
    "\n",
    "# Execute the Azure CLI command to create the deployment\n",
    "az deployment group create --name $deploymentName --resource-group $resourceGroupName --template-file \"main.bicep\" --parameters \"params.json\"\n",
    "\n"
   ]
  },
  {
   "cell_type": "markdown",
   "metadata": {},
   "source": [
    "### 3️⃣ Get the deployment outputs\n",
    "\n",
    "We will set the `apicResourceName` variable with the value that was returned from the deployment "
   ]
  },
  {
   "cell_type": "code",
   "execution_count": null,
   "metadata": {
    "dotnet_interactive": {
     "language": "pwsh"
    },
    "polyglot_notebook": {
     "kernelName": "pwsh"
    },
    "vscode": {
     "languageId": "polyglot-notebook"
    }
   },
   "outputs": [],
   "source": [
    "$deploymentOutput = az deployment group show --name $deploymentName -g $resourceGroupName --query properties.outputs.apicResourceName.value -o json\n",
    "if ($LASTEXITCODE -ne 0) {\n",
    "    Write-Output $deploymentOutput\n",
    "} else {\n",
    "    $apicResourceName = $deploymentOutput | ConvertFrom-Json\n",
    "}\n",
    "Write-Output \"👉🏻 API Center name: $apicResourceName\""
   ]
  },
  {
   "cell_type": "markdown",
   "metadata": {},
   "source": [
    "### 4️⃣ Clone the repo\n",
    "\n",
    "Creates a local copy of the specific repository or branch within a repository.\n"
   ]
  },
  {
   "cell_type": "code",
   "execution_count": null,
   "metadata": {
    "dotnet_interactive": {
     "language": "pwsh"
    },
    "polyglot_notebook": {
     "kernelName": "pwsh"
    },
    "vscode": {
     "languageId": "polyglot-notebook"
    }
   },
   "outputs": [],
   "source": [
    "git clone $sourceRepo \".temp\""
   ]
  },
  {
   "cell_type": "markdown",
   "metadata": {},
   "source": [
    "### 5️⃣ Crawl APIs and register each one of them in API Center\n",
    "\n",
    "[Registers](https://learn.microsoft.com/en-us/cli/azure/apic/api?view=azure-cli-latest#az-apic-api-register) each valid API in the cloned repo."
   ]
  },
  {
   "cell_type": "code",
   "execution_count": null,
   "metadata": {
    "dotnet_interactive": {
     "language": "pwsh"
    },
    "polyglot_notebook": {
     "kernelName": "pwsh"
    },
    "vscode": {
     "languageId": "polyglot-notebook"
    }
   },
   "outputs": [],
   "source": [
    "$results = @()\n",
    "\n",
    "$files = Get-ChildItem -Path \".temp\\release12.0.0\\semantic-apis\\oas3\\yamls\" -Recurse -File\n",
    "\n",
    "$counter = 0\n",
    "foreach ($file in $files) {\n",
    "    if ($file.Extension -eq \".yaml\" || $file.Extension -eq \".yml\" || $file.Extension -eq \".json\") {\n",
    "        $fileSize = $file.Length\n",
    "        $filePath = $file.FullName\n",
    "        $lintintProblemsJson = spectral lint $filePath --ruleset spectral.yaml -f json             \n",
    "        $lintintProblems = $lintintProblemsJson | ConvertFrom-Json\n",
    "        $lintingErrors = 0\n",
    "        $lintingWarnings = 0\n",
    "        foreach ($problem in $lintintProblems) {\n",
    "            if ($problem.severity -eq 0) {\n",
    "                $lintingErrors++\n",
    "            } elseif ($problem.severity -eq 1) {\n",
    "                $lintingWarnings++\n",
    "            }\n",
    "        }\n",
    "        Write-Output \"👉🏻 Registering: $filePath\"\n",
    "        $registerOutput = az apic api register -g $resourceGroupName -n $apicResourceName -l $filePath 2>&1\n",
    "        $registeredAPI = [ordered] @{            \n",
    "                        Name = $file.Name              \n",
    "                        File = $file.FullName              \n",
    "                        Extension = $file.Extension             \n",
    "                        Size = $file.Length\n",
    "                        Errors = $lintingErrors\n",
    "                        Warnings = $lintingWarnings\n",
    "                        API = if ($registerOutput -match \"API was created successfully\") {\"OK\"} else {\"ERROR\"}\n",
    "                        Version = if ($registerOutput -match \"API version was created successfully\") {\"OK\"} else {\"ERROR\"}\n",
    "                        Definition = if ($registerOutput -match \"API specification was created successfully\") {\"OK\"} else {\"ERROR\"}\n",
    "                        Output = $registerOutput | Out-String\n",
    "        }    \n",
    "        $results += New-Object PSObject -Property $registeredAPI\n",
    "        $counter++\n",
    "        if ($counter -ge $maxAPIsToImport) {\n",
    "            Write-Output \"🚫 Max APIs to import reached. Done for now.\"\n",
    "            break\n",
    "        }\n",
    "    }\n",
    "}\n",
    "Write-Output \"✅ $counter APIs imported.\"\n",
    "\n",
    "$results | export-csv -Path .temp/result.csv -NoTypeInformation -Delimiter \";\"\n"
   ]
  },
  {
   "cell_type": "markdown",
   "metadata": {},
   "source": [
    "### 7️⃣ Discover the APIs that were just imported\n",
    "\n",
    "You can discover the APIs with fhe following methods:\n",
    "- With the Azure Portal\n",
    "- With the [self-hosted API Center Portal](https://learn.microsoft.com/en-us/azure/api-center/enable-api-center-portal)\n",
    "- With the [VS Code extension](https://learn.microsoft.com/en-us/azure/api-center/use-vscode-extension-copilot) that is integrated with GitHub Copilot Chat.\n",
    "- With the CLI, the service REST API and more\n",
    "\n",
    "Here we will use the [list command](https://learn.microsoft.com/en-us/cli/azure/apic/api?view=azure-cli-latest#az-apic-api-list) to display the APIs that we have just imported. \n"
   ]
  },
  {
   "cell_type": "code",
   "execution_count": null,
   "metadata": {
    "dotnet_interactive": {
     "language": "pwsh"
    },
    "polyglot_notebook": {
     "kernelName": "pwsh"
    },
    "vscode": {
     "languageId": "polyglot-notebook"
    }
   },
   "outputs": [],
   "source": [
    "az apic api list -g $resourceGroupName -n $apicResourceName --query \"[].{Name:name, Title:title, ContactEmail:contacts[0].email}\" -o table"
   ]
  },
  {
   "cell_type": "markdown",
   "metadata": {},
   "source": [
    "### 🗑️ Clean up resources\n",
    "\n",
    "When you're finished with the lab, you should remove all your deployed resources from Azure to avoid extra charges and keep your Azure subscription uncluttered.\n",
    "Use the [clean-up-resources notebook](clean-up-resources.ipynb) for that."
   ]
  }
 ],
 "metadata": {
  "kernelspec": {
   "display_name": ".NET (C#)",
   "language": "C#",
   "name": ".net-csharp"
  },
  "language_info": {
   "codemirror_mode": {
    "name": "ipython",
    "version": 3
   },
   "file_extension": ".py",
   "mimetype": "text/x-python",
   "name": "python",
   "nbconvert_exporter": "python",
   "pygments_lexer": "ipython3",
   "version": "3.11.9"
  },
  "polyglot_notebook": {
   "kernelInfo": {
    "defaultKernelName": "csharp",
    "items": [
     {
      "aliases": [],
      "name": "csharp"
     }
    ]
   }
  }
 },
 "nbformat": 4,
 "nbformat_minor": 2
}
