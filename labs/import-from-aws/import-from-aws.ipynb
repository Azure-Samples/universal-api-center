{
 "cells": [
  {
   "cell_type": "markdown",
   "metadata": {},
   "source": [
    "# API Center ❤️ all APIs\n",
    "\n",
    "## Import from Amazon API Gateway\n",
    "![image](../../images/import-from-aws.png)\n",
    "\n",
    "Playground to experiment importing APIs from Amazon API Gateway. We start by creating an API Center instance using [Bicep resource definition](https://learn.microsoft.com/en-us/azure/templates/microsoft.apicenter/services?pivots=deployment-language-bicep) and then we will use the [AWS CLI](https://docs.aws.amazon.com/cli/latest/userguide/getting-started-install.html) to export the APIs and the [Azure CLI](https://learn.microsoft.com/en-us/cli/azure/apic?view=azure-cli-latest) to import the APIs into API Center.\n",
    "\n",
    "💡 Every step outlined below leverages the power of PowerShell scripts. This is designed so you can seamlessly integrate them into your automation workflows, CI/CD pipelines, webhooks, and more.\n",
    "\n",
    "### Learning Objectives - Upon completing this lab, you should be able to:\n",
    "- Deploy Azure API Center using Bicep.\n",
    "- Configure the API Center metadata scheme for APIs, Environments and Deployments.\n",
    "- Understand the Azure CLI commands to manage Azure API Center. [Full list of commands available here](https://learn.microsoft.com/en-us/cli/azure/apic?view=azure-cli-latest).\n",
    "- Register APIs using the OpenAPI spec exported from AWS API Gateway.\n",
    "- Create deployments for each AWS API Gateway stage. \n",
    "- Search and discover the APIs registered in API Center.\n",
    "\n",
    "### Prerequisites\n",
    "- Install or update to the latest [.NET 8 SDK](https://dotnet.microsoft.com/en-us/download)\n",
    "- Install or update to the latest [Visual Studio Code](https://code.visualstudio.com/)\n",
    "- Install the [Polyglot Notebooks extension](https://marketplace.visualstudio.com/items?itemName=ms-dotnettools.dotnet-interactive-vscode) from the VS Code marketplace\n",
    "- Install or update to the latest [PowerShell](https://learn.microsoft.com/en-us/powershell/scripting/install/installing-powershell)\n",
    "- Install or update to the latest [Azure CLI](https://learn.microsoft.com/en-us/cli/azure/install-azure-cli). The Azure API Center extension will automatically install the first time you run an [az apic](https://learn.microsoft.com/en-us/cli/azure/apic?view=azure-cli-latest) command.\n",
    "- [An Azure Subscription](https://azure.microsoft.com/en-us/free/) with Contributor permissions\n",
    "- [Sign in to Azure with Azure CLI](https://learn.microsoft.com/en-us/cli/azure/authenticate-azure-cli-interactively)\n",
    "- Install or update to the latest [AWS CLI](https://docs.aws.amazon.com/cli/latest/userguide/getting-started-install.html)\n",
    "- [Setup](https://docs.aws.amazon.com/cli/latest/userguide/getting-started-quickstart.html) the AWS CLI to interact with AWS services"
   ]
  },
  {
   "cell_type": "markdown",
   "metadata": {},
   "source": [
    "### 0️⃣ Initialize notebook variables\n",
    "\n",
    "- Resources will be suffixed by a unique string based on your subscription id\n",
    "- Adjust the APIC location parameter according your preferences and [region availability.](https://learn.microsoft.com/en-us/azure/api-center/overview#available-regions) \n"
   ]
  },
  {
   "cell_type": "code",
   "execution_count": null,
   "metadata": {
    "dotnet_interactive": {
     "language": "pwsh"
    },
    "polyglot_notebook": {
     "kernelName": "pwsh"
    },
    "vscode": {
     "languageId": "polyglot-notebook"
    }
   },
   "outputs": [],
   "source": [
    "\n",
    "$deploymentName = Split-Path -Path (Get-Location) -Leaf\n",
    "$resourceGroupName = \"lab-$deploymentName\" # change the name to match your naming style\n",
    "$resourceGroupLocation = \"westeurope\"\n",
    "$apicResourceNamePrefix = \"apic\"\n",
    "$apicResourceSku = \"free\"\n",
    "$apicResourceTags = @{\n",
    "  \"lab\" = $deploymentName\n",
    "}\n",
    "\n",
    "# the following metadata will be created during the deployment\n",
    "$metadata = @(\n",
    "  @{\n",
    "    \"name\" = 'createdDate'\n",
    "    \"schema\" = '{\"title\":\"createdDate\",\"description\":\"Date when the API was created\",\"type\":\"string\"}'\n",
    "    \"assignedTo\" = @(\n",
    "      @{\n",
    "        \"entity\" = 'api'\n",
    "        \"required\" = $false\n",
    "      },\n",
    "      @{\n",
    "        \"entity\" = 'deployment'\n",
    "        \"required\" = $false\n",
    "      }\n",
    "    )\n",
    "  },\n",
    "  @{\n",
    "    \"name\" = 'rootResourceId'\n",
    "    \"schema\" = '{\"title\":\"rootResourceId\",\"description\":\"API Gateway resource id\",\"type\":\"string\"}'\n",
    "    \"assignedTo\" = @(\n",
    "      @{\n",
    "        \"entity\" = 'api'\n",
    "        \"required\" = $false\n",
    "      }\n",
    "    )\n",
    "  },\n",
    "  @{\n",
    "    \"name\" = 'dataClassification'\n",
    "    \"schema\" = '{\"title\":\"dataClassification\",\"description\":\"Classification of the Data that will transit in the API\",\"type\":\"string\"}'\n",
    "    \"assignedTo\" = @(\n",
    "      @{\n",
    "        \"entity\" = 'api'\n",
    "        \"required\" = $false\n",
    "      }\n",
    "    )\n",
    "  },\n",
    "  @{\n",
    "    \"name\" = 'department'\n",
    "    \"schema\" = '{\"title\":\"department\",\"description\":\"Department associated with the API\",\"type\":\"string\"}'\n",
    "    \"assignedTo\" = @(\n",
    "      @{\n",
    "        \"entity\" = 'api'\n",
    "        \"required\" = $false\n",
    "      }\n",
    "    )\n",
    "  }\n",
    ")\n",
    "\n",
    "# the following environment(s) will be created during the deployment\n",
    "$environments = @(\n",
    "  @{\n",
    "    \"title\" = 'production'\n",
    "    \"kind\" = 'production'\n",
    "    \"description\" = 'Production Stage'\n",
    "    \"server\" = @{\n",
    "        \"type\" = 'AWS API Gateway' \n",
    "        \"managementPortalUri\" = 'https://console.aws.amazon.com/apigateway/'\n",
    "    }\n",
    "    \"onboarding\" = @{\n",
    "        \"developerPortalUri\" = ''\n",
    "        \"instructions\" = ''\n",
    "    }\n",
    "    \"customProperties\" = @{ \n",
    "    }\n",
    "  },\n",
    "  @{\n",
    "    \"title\" = 'development'\n",
    "    \"kind\" = 'development'\n",
    "    \"description\" = 'Development Stage'\n",
    "    \"server\" = @{\n",
    "        \"type\" = 'AWS API Gateway' \n",
    "        \"managementPortalUri\" = 'https://console.aws.amazon.com/apigateway/'\n",
    "    }\n",
    "    \"onboarding\" = @{\n",
    "        \"developerPortalUri\" = ''\n",
    "        \"instructions\" = ''\n",
    "    }\n",
    "    \"customProperties\" = @{ \n",
    "    }\n",
    "  }\n",
    ")\n",
    "\n",
    "Write-Output \"✅ Variables initialized ⌚ $(Get-Date -Format 'HH:mm:ss')\"\n"
   ]
  },
  {
   "cell_type": "markdown",
   "metadata": {},
   "source": [
    "### 1️⃣ Create the Azure Resource Group\n",
    "All resources deployed in this lab will be created in the specified resource group. Skip this step if you want to use an existing resource group."
   ]
  },
  {
   "cell_type": "code",
   "execution_count": null,
   "metadata": {
    "dotnet_interactive": {
     "language": "pwsh"
    },
    "polyglot_notebook": {
     "kernelName": "pwsh"
    },
    "vscode": {
     "languageId": "polyglot-notebook"
    }
   },
   "outputs": [],
   "source": [
    "$resourceGroupOutput = az group create --name $resourceGroupName --location $resourceGroupLocation\n",
    "\n",
    "if ($LASTEXITCODE -ne 0) {\n",
    "    Write-Output $resourceGroupOutput\n",
    "} else {\n",
    "    Write-Output \"✅ Azure Resource Grpup $resourceGroupName created ⌚ $(Get-Date -Format 'HH:mm:ss')\"\n",
    "}"
   ]
  },
  {
   "cell_type": "markdown",
   "metadata": {},
   "source": [
    "### 2️⃣ Create deployment using 🦾 Bicep\n",
    "\n",
    "This lab uses [Bicep](https://learn.microsoft.com/en-us/azure/azure-resource-manager/bicep/overview?tabs=bicep) to declarative define all the resources that will be deployed. Change the parameters or the [main.bicep](main.bicep) directly to try different configurations. "
   ]
  },
  {
   "cell_type": "code",
   "execution_count": null,
   "metadata": {
    "dotnet_interactive": {
     "language": "pwsh"
    },
    "polyglot_notebook": {
     "kernelName": "pwsh"
    },
    "vscode": {
     "languageId": "polyglot-notebook"
    }
   },
   "outputs": [],
   "source": [
    "$bicepParameters = @{\n",
    "    \"`$schema\" = \"https://schema.management.azure.com/schemas/2019-04-01/deploymentParameters.json#\"\n",
    "    \"contentVersion\" = \"1.0.0.0\"\n",
    "    \"parameters\" = @{\n",
    "        \"apicResourceNamePrefix\" = @{ \"value\" = $apicResourceNamePrefix }\n",
    "        \"apicResourceTags\" = @{ \"value\" = $apicResourceTags }\n",
    "        \"apicMetadataSchema\" = @{ \"value\" = $metadata }\n",
    "        \"apicEnvironments\" = @{ \"value\" = $environments }\n",
    "    }\n",
    "}\n",
    "\n",
    "$bicepParametersJson = ConvertTo-Json -InputObject $bicepParameters -Depth 10\n",
    "Set-Content -Path \"params.json\" -Value $bicepParametersJson\n",
    "\n",
    "# Execute the Azure CLI command to create the deployment\n",
    "az deployment group create --name $deploymentName --resource-group $resourceGroupName --template-file \"main.bicep\" --parameters \"params.json\"\n",
    "\n"
   ]
  },
  {
   "cell_type": "markdown",
   "metadata": {},
   "source": [
    "### 3️⃣ Get the deployment outputs\n",
    "\n",
    "We will set the `apicResourceName` variable with the value that was returned from the deployment "
   ]
  },
  {
   "cell_type": "code",
   "execution_count": null,
   "metadata": {
    "dotnet_interactive": {
     "language": "pwsh"
    },
    "polyglot_notebook": {
     "kernelName": "pwsh"
    },
    "vscode": {
     "languageId": "polyglot-notebook"
    }
   },
   "outputs": [],
   "source": [
    "$deploymentOutput = az deployment group show --name $deploymentName -g $resourceGroupName --query properties.outputs.apicResourceName.value -o json\n",
    "if ($LASTEXITCODE -ne 0) {\n",
    "    Write-Output $deploymentOutput\n",
    "} else {\n",
    "    $apicResourceName = $deploymentOutput | ConvertFrom-Json\n",
    "}\n",
    "Write-Output \"👉🏻 API Center name: $apicResourceName\""
   ]
  },
  {
   "cell_type": "markdown",
   "metadata": {},
   "source": [
    "### 4️⃣ Export the APIs from AWS API Gateway and Register in API Center\n",
    "\n",
    "We will start to list all the REST APIs, then for each API we will export the OpenAPI spec, update the metadata and then create deployments for each environment.\n",
    "\n",
    "Note: this script supports REST APIs. For HTTP APIs you should adapt the script to use the [equivalent commands](https://awscli.amazonaws.com/v2/documentation/api/latest/reference/apigatewayv2/index.html)."
   ]
  },
  {
   "cell_type": "code",
   "execution_count": null,
   "metadata": {
    "dotnet_interactive": {
     "language": "pwsh"
    },
    "polyglot_notebook": {
     "kernelName": "pwsh"
    },
    "vscode": {
     "languageId": "polyglot-notebook"
    }
   },
   "outputs": [],
   "source": [
    "\n",
    "# comment one of the following lines to use the real AWS API Gateway or the local file\n",
    "#$restAPIsJson = aws apigateway get-rest-apis --output json\n",
    "$restAPIsJson = Get-Content -Raw 'get-rest-apis.json'\n",
    "\n",
    "$restAPIs = $restAPIsJson | ConvertFrom-Json\n",
    "foreach ($restAPI in $restAPIs.items) {\n",
    "    $restAPIId = $restAPI.name\n",
    "\n",
    "    # comment one of the following lines to use the real AWS API Gateway or the local file\n",
    "    #$restAPIJson = aws apigateway get-rest-api --rest-api-id $restAPIId --output json\n",
    "    $restAPIJson = Get-Content -Raw 'get-rest-api.json' \n",
    "\n",
    "    $restAPI = $restAPIJson | ConvertFrom-Json\n",
    "\n",
    "    # uncomment the following line to export from AWS API Gateway instead of using the local file\n",
    "    # aws apigateway get-export --rest-api-id 2q3nwrw1r0 --stage-name production --export-type oas30 $restAPIId.json\n",
    "\n",
    "    write-output \"👉🏻 Registering API $restAPIId\"\n",
    "    az apic api register -g $resourceGroupName -s $apicResourceName -l $restAPIId\".json\"\n",
    "\n",
    "    $apiCustomProperties = @{ \n",
    "        \"createdDate\" = $restAPI.createdDate      \n",
    "        \"rootResourceId\" = $restAPI.rootResourceId\n",
    "        \"department\" = $restAPI.tags.department\n",
    "        \"dataClassification\" = $restAPI.tags.dataClassification\n",
    "    }\n",
    "    $apiCustomPropertiesJson = ConvertTo-Json -InputObject $apiCustomProperties -Depth 10 -Compress\n",
    "    write-output \"👉🏻 Updating API $restAPIId metadata\"\n",
    "    az apic api update -g $resourceGroupName -s $apicResourceName --api-id $restAPIId --custom-properties $apiCustomPropertiesJson.replace('\"','\\\"')    \n",
    "\n",
    "    $openAPIJson = Get-Content -Raw $restAPIId\".json\"\n",
    "    $openAPI = $openAPIJson | ConvertFrom-Json\n",
    "    $version = $openAPI.info.version\n",
    "    $runtimeUri = $openAPI.servers[0].url\n",
    "\n",
    "    foreach ($environment in $environments) {\n",
    "        $environmentName = $environment.title\n",
    "\n",
    "        # comment one of the following lines to use the real AWS API Gateway or the local file\n",
    "        # $stageJson =  aws apigateway get-stage --stage-name $environmentName --rest-api-id $restAPIId\n",
    "        $stageJson = Get-Content -Raw 'get-stage.json'\n",
    "        \n",
    "        $stage = $stageJson | ConvertFrom-Json\n",
    "        $deploymentId = $stage.deploymentId\n",
    "        $deploymentDescription = $stage.description\n",
    "        $server = $('{\\\"runtimeUri\\\":[\\\"' + $runtimeUri.replace('{basePath}', $environmentName) + '\\\"]}')\n",
    "\n",
    "        $deploymentCustomProperties = @{\n",
    "            \"createdDate\" = $stage.createdDate\n",
    "        }\n",
    "        $deploymentCustomPropertiesJson = ConvertTo-Json -InputObject $deploymentCustomProperties -Depth 10 -Compress\n",
    "        write-output \"👉🏻 Creating $environmentName deployment for API $restAPIId\"\n",
    "        az apic api deployment create -g $resourceGroupName -s $apicResourceName --deployment-id $environmentName\"-\"$deploymentId `\n",
    "                --title $deploymentId --description $deploymentDescription --api-id $restAPIId `\n",
    "                --environment-id \"/workspaces/default/environments/$environmentName\" `\n",
    "                --definition-id \"/workspaces/default/apis/$restAPIId/versions/$version/definitions/openapi\" `\n",
    "                --server $server `\n",
    "                --custom-properties $deploymentCustomPropertiesJson.replace('\"','\\\"')        \n",
    "    }\n",
    "}"
   ]
  },
  {
   "cell_type": "markdown",
   "metadata": {},
   "source": [
    "### 5️⃣ Discover the APIs that were just imported\n",
    "\n",
    "You can discover the APIs with fhe following methods:\n",
    "- With the Azure Portal\n",
    "- With the [self-hosted API Center Portal](https://learn.microsoft.com/en-us/azure/api-center/enable-api-center-portal)\n",
    "- With the [VS Code extension](https://learn.microsoft.com/en-us/azure/api-center/use-vscode-extension-copilot) that is integrated with GitHub Copilot Chat.\n",
    "- With the CLI, the service REST API and more\n",
    "\n",
    "Here we will use the [list command](https://learn.microsoft.com/en-us/cli/azure/apic/api?view=azure-cli-latest#az-apic-api-list) to display the APIs that we have just imported. \n"
   ]
  },
  {
   "cell_type": "code",
   "execution_count": null,
   "metadata": {
    "dotnet_interactive": {
     "language": "pwsh"
    },
    "polyglot_notebook": {
     "kernelName": "pwsh"
    },
    "vscode": {
     "languageId": "polyglot-notebook"
    }
   },
   "outputs": [],
   "source": [
    "az apic api list -g $resourceGroupName -s $apicResourceName --query \"[].{Name:name, Title:title, Kind:kind, ContactEmail:contacts[0].email}\" -o table"
   ]
  },
  {
   "cell_type": "markdown",
   "metadata": {},
   "source": [
    "### 🗑️ Clean up resources\n",
    "\n",
    "When you're finished with the lab, you should remove all your deployed resources from Azure to avoid extra charges and keep your Azure subscription uncluttered.\n",
    "Use the [clean-up-resources notebook](clean-up-resources.ipynb) for that."
   ]
  }
 ],
 "metadata": {
  "kernelspec": {
   "display_name": "Python 3",
   "language": "python",
   "name": "python3"
  },
  "language_info": {
   "codemirror_mode": {
    "name": "ipython",
    "version": 3
   },
   "file_extension": ".py",
   "mimetype": "text/x-python",
   "name": "python",
   "nbconvert_exporter": "python",
   "pygments_lexer": "ipython3",
   "version": "3.11.9"
  }
 },
 "nbformat": 4,
 "nbformat_minor": 2
}
