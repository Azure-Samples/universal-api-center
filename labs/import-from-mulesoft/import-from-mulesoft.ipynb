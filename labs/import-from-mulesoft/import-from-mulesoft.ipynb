{
 "cells": [
  {
   "cell_type": "markdown",
   "metadata": {},
   "source": [
    "# API Center ❤️ all APIs\n",
    "\n",
    "## Import from MuleSoft API Manager\n",
    "![image](../../images/import-from-mulesoft.png)\n",
    "\n",
    "Playground to experiment importing APIs from the MuleSoft Anypoint platform. We start by creating an API Center instance using [Bicep resource definition](https://learn.microsoft.com/en-us/azure/templates/microsoft.apicenter/services?pivots=deployment-language-bicep) and then we will use the [Anypoint Platform CLI](https://docs.mulesoft.com/anypoint-cli/latest/) to export the APIs and the [Azure CLI](https://learn.microsoft.com/en-us/cli/azure/apic?view=azure-cli-latest) to import the APIs into API Center.\n",
    "\n",
    "💡 Every step outlined below leverages the power of PowerShell scripts. This is designed so you can seamlessly integrate them into your automation workflows, CI/CD pipelines, webhooks, and more.\n",
    "\n",
    "### Learning Objectives - Upon completing this lab, you should be able to:\n",
    "- Deploy Azure API Center using Bicep.\n",
    "- Configure the API Center metadata scheme for APIs, Environments and Deployments.\n",
    "- Understand the Azure CLI commands to manage Azure API Center. [Full list of commands available here](https://learn.microsoft.com/en-us/cli/azure/apic?view=azure-cli-latest).\n",
    "- Create an enviroment with custom metadata properties \n",
    "- Register an API using the OpenAPI spec as the source of truth and assign API metadata properties.\n",
    "- Register an API with individual commands to have full control over all the properties. \n",
    "- Search and discover the APIs registered in API Center.\n",
    "\n",
    "### Prerequisites\n",
    "- Install or update to the latest [.NET 8 SDK](https://dotnet.microsoft.com/en-us/download)\n",
    "- Install or update to the latest [Visual Studio Code](https://code.visualstudio.com/)\n",
    "- Install the [Polyglot Notebooks extension](https://marketplace.visualstudio.com/items?itemName=ms-dotnettools.dotnet-interactive-vscode) from the VS Code marketplace\n",
    "- Install or update to the latest [PowerShell](https://learn.microsoft.com/en-us/powershell/scripting/install/installing-powershell)\n",
    "- Install or update to the latest [Azure CLI](https://learn.microsoft.com/en-us/cli/azure/install-azure-cli). The Azure API Center extension will automatically install the first time you run an [az apic](https://learn.microsoft.com/en-us/cli/azure/apic?view=azure-cli-latest) command.\n",
    "- [An Azure Subscription](https://azure.microsoft.com/en-us/free/) with Contributor permissions\n",
    "- [Sign in to Azure with Azure CLI](https://learn.microsoft.com/en-us/cli/azure/authenticate-azure-cli-interactively)\n",
    "- [Install and configure the MuleSoft Anypoint Platform CLI](https://docs.mulesoft.com/anypoint-cli/latest/)\n"
   ]
  },
  {
   "cell_type": "markdown",
   "metadata": {},
   "source": [
    "### 0️⃣ Initialize notebook variables\n",
    "\n",
    "- Resources will be suffixed by a unique string based on your subscription id\n",
    "- Adjust the APIC location parameter according your preferences and [region availability.](https://learn.microsoft.com/en-us/azure/api-center/overview#available-regions) \n"
   ]
  },
  {
   "cell_type": "code",
   "execution_count": null,
   "metadata": {
    "dotnet_interactive": {
     "language": "pwsh"
    },
    "polyglot_notebook": {
     "kernelName": "pwsh"
    },
    "vscode": {
     "languageId": "polyglot-notebook"
    }
   },
   "outputs": [],
   "source": [
    "\n",
    "$deploymentName = Split-Path -Path (Get-Location) -Leaf\n",
    "$resourceGroupName = \"lab-$deploymentName\" # change the name to match your naming style\n",
    "$resourceGroupLocation = \"westeurope\"\n",
    "$apicResourceNamePrefix = \"apic\"\n",
    "$apicResourceSku = \"free\"\n",
    "$apicResourceTags = @{\n",
    "  \"lab\" = $deploymentName\n",
    "}\n",
    "\n",
    "# the following metadata will be created during the deployment\n",
    "$metadata = @(\n",
    "  @{\n",
    "    \"name\" = 'technology'\n",
    "    \"schema\" = '{\"title\":\"technology\",\"description\":\"The Mule technology used to serve the API\",\"type\":\"string\"}'\n",
    "    \"assignedTo\" = @(\n",
    "      @{\n",
    "        \"entity\" = 'api'\n",
    "        \"required\" = $false\n",
    "      }\n",
    "    )\n",
    "  },\n",
    "  @{\n",
    "    \"name\" = 'stage'\n",
    "    \"schema\" = '{\"title\":\"stage\",\"description\":\"The API stage\",\"type\":\"string\"}'\n",
    "    \"assignedTo\" = @(\n",
    "      @{\n",
    "        \"entity\" = 'api'\n",
    "        \"required\" = $false\n",
    "      }\n",
    "    )\n",
    "  },\n",
    "  @{\n",
    "    \"name\" = 'isPublic'\n",
    "    \"schema\" = '{\"title\":\"isPublic\",\"description\":\"Indication if its a public API\",\"type\":\"boolean\"}'\n",
    "    \"assignedTo\" = @(\n",
    "      @{\n",
    "        \"entity\" = 'api'\n",
    "        \"required\" = $false\n",
    "      }\n",
    "    )\n",
    "  },\n",
    "  @{\n",
    "    \"name\" = 'organizationId'\n",
    "    \"schema\" = '{\"title\":\"organizationId\",\"description\":\"Id for the organization associated with the Anypoint platform environment\",\"type\":\"string\"}'\n",
    "    \"assignedTo\" = @(\n",
    "      @{\n",
    "        \"entity\" = 'environment'\n",
    "        \"required\" = $false\n",
    "      }\n",
    "    )\n",
    "  },\n",
    "  @{\n",
    "    \"name\" = 'clientId'\n",
    "    \"schema\" = '{\"title\":\"clientId\",\"description\":\"Id for the client\",\"type\":\"string\"}'\n",
    "    \"assignedTo\" = @(\n",
    "      @{\n",
    "        \"entity\" = 'environment'\n",
    "        \"required\" = $false\n",
    "      }\n",
    "    )\n",
    "  },\n",
    "  @{\n",
    "    \"name\" = 'anypointAppName'\n",
    "    \"schema\" = '{\"title\":\"anypointAppName\",\"description\":\"App name for the deployment\",\"type\":\"string\"}'\n",
    "    \"assignedTo\" = @(\n",
    "      @{\n",
    "        \"entity\" = 'deployment'\n",
    "        \"required\" = $false\n",
    "      }\n",
    "    )\n",
    "  },\n",
    "  @{\n",
    "    \"name\" = 'targetId'\n",
    "    \"schema\" = '{\"title\":\"targetId\",\"description\":\"Target Id of the app deployment\",\"type\":\"string\"}'\n",
    "    \"assignedTo\" = @(\n",
    "      @{\n",
    "        \"entity\" = 'deployment'\n",
    "        \"required\" = $false\n",
    "      }\n",
    "    )\n",
    "  },\n",
    "  @{\n",
    "    \"name\" = 'runtimeVersion'\n",
    "    \"schema\" = '{\"title\":\"runtimeVersion\",\"description\":\"Runtime version of the app deployment\",\"type\":\"string\"}'\n",
    "    \"assignedTo\" = @(\n",
    "      @{\n",
    "        \"entity\" = 'deployment'\n",
    "        \"required\" = $false\n",
    "      }\n",
    "    )\n",
    "  }\n",
    "\n",
    ")\n",
    "\n",
    "# the following environment(s) will be created during the Bicep deployment\n",
    "$environments = @(\n",
    ")\n",
    "\n",
    "Write-Output \"✅ Variables initialized ⌚ $(Get-Date -Format 'HH:mm:ss')\"\n"
   ]
  },
  {
   "cell_type": "markdown",
   "metadata": {},
   "source": [
    "### 1️⃣ Create the Azure Resource Group\n",
    "All resources deployed in this lab will be created in the specified resource group. Skip this step if you want to use an existing resource group."
   ]
  },
  {
   "cell_type": "code",
   "execution_count": null,
   "metadata": {
    "dotnet_interactive": {
     "language": "pwsh"
    },
    "polyglot_notebook": {
     "kernelName": "pwsh"
    },
    "vscode": {
     "languageId": "polyglot-notebook"
    }
   },
   "outputs": [],
   "source": [
    "$resourceGroupOutput = az group create --name $resourceGroupName --location $resourceGroupLocation\n",
    "\n",
    "if ($LASTEXITCODE -ne 0) {\n",
    "    Write-Output $resourceGroupOutput\n",
    "} else {\n",
    "    Write-Output \"✅ Azure Resource Grpup $resourceGroupName created ⌚ $(Get-Date -Format 'HH:mm:ss')\"\n",
    "}"
   ]
  },
  {
   "cell_type": "markdown",
   "metadata": {},
   "source": [
    "### 2️⃣ Create deployment using 🦾 Bicep\n",
    "\n",
    "This lab uses [Bicep](https://learn.microsoft.com/en-us/azure/azure-resource-manager/bicep/overview?tabs=bicep) to declarative define all the resources that will be deployed. Change the parameters or the [main.bicep](main.bicep) directly to try different configurations. "
   ]
  },
  {
   "cell_type": "code",
   "execution_count": null,
   "metadata": {
    "dotnet_interactive": {
     "language": "pwsh"
    },
    "polyglot_notebook": {
     "kernelName": "pwsh"
    },
    "vscode": {
     "languageId": "polyglot-notebook"
    }
   },
   "outputs": [],
   "source": [
    "$bicepParameters = @{\n",
    "    \"`$schema\" = \"https://schema.management.azure.com/schemas/2019-04-01/deploymentParameters.json#\"\n",
    "    \"contentVersion\" = \"1.0.0.0\"\n",
    "    \"parameters\" = @{\n",
    "        \"apicResourceNamePrefix\" = @{ \"value\" = $apicResourceNamePrefix }\n",
    "        \"apicResourceTags\" = @{ \"value\" = $apicResourceTags }\n",
    "        \"apicMetadataSchema\" = @{ \"value\" = $metadata }\n",
    "        \"apicEnvironments\" = @{ \"value\" = $environments }\n",
    "    }\n",
    "}\n",
    "\n",
    "$bicepParametersJson = ConvertTo-Json -InputObject $bicepParameters -Depth 10\n",
    "Set-Content -Path \"params.json\" -Value $bicepParametersJson\n",
    "\n",
    "# Execute the Azure CLI command to create the deployment\n",
    "az deployment group create --name $deploymentName --resource-group $resourceGroupName --template-file \"main.bicep\" --parameters \"params.json\"\n",
    "\n"
   ]
  },
  {
   "cell_type": "markdown",
   "metadata": {},
   "source": [
    "### 3️⃣ Get the deployment outputs\n",
    "\n",
    "We will set the `apicResourceName` variable with the value that was returned from the deployment "
   ]
  },
  {
   "cell_type": "code",
   "execution_count": null,
   "metadata": {
    "dotnet_interactive": {
     "language": "pwsh"
    },
    "polyglot_notebook": {
     "kernelName": "pwsh"
    },
    "vscode": {
     "languageId": "polyglot-notebook"
    }
   },
   "outputs": [],
   "source": [
    "$deploymentOutput = az deployment group show --name $deploymentName -g $resourceGroupName --query properties.outputs.apicResourceName.value -o json\n",
    "if ($LASTEXITCODE -ne 0) {\n",
    "    Write-Output $deploymentOutput\n",
    "} else {\n",
    "    $apicResourceName = $deploymentOutput | ConvertFrom-Json\n",
    "}\n",
    "Write-Output \"👉🏻 API Center name: $apicResourceName\""
   ]
  },
  {
   "cell_type": "markdown",
   "metadata": {},
   "source": [
    "### 4️⃣ Extract MuleSoft Anypoint API artefacts and load them into API Center\n",
    "\n",
    "The following script uses the MuleSoft Anypoint platform CLI to query Anypoint platform environments, APIs and runtime details to import the artifacts into API Center with the respective metadata.\n"
   ]
  },
  {
   "cell_type": "code",
   "execution_count": null,
   "metadata": {
    "dotnet_interactive": {
     "language": "pwsh"
    },
    "polyglot_notebook": {
     "kernelName": "pwsh"
    },
    "vscode": {
     "languageId": "polyglot-notebook"
    }
   },
   "outputs": [],
   "source": [
    "# comment one of the following lines to use the real MuleSoft data or the local file\n",
    "$anypointEnvsJson = anypoint-cli-v4 account:environment:list --output=json\n",
    "# $anypointEnvsJson = Get-Content -Raw 'account_environment_list.json'\n",
    "\n",
    "$anypointEnvs = $anypointEnvsJson | ConvertFrom-Json\n",
    "foreach ($anypointEnv in $anypointEnvs) {\n",
    "    $environmentName = $anypointEnv.name\n",
    "    if ($anypointEnv.type -eq \"sandbox\" || $anypointEnv.type -eq \"design\") {\n",
    "        $environmentType = \"development\"\n",
    "    } elseif ($anypointEnv.type -eq \"production\") {\n",
    "        $environmentType = \"production\"\n",
    "    }\n",
    "\n",
    "    $environmentCustomProperties = @{\n",
    "        \"organizationId\" = $anypointEnv.organizationId\n",
    "        \"clientId\" = $anypointEnv.clientId\n",
    "    }\n",
    "\n",
    "    $environmentCustomPropertiesJson = ConvertTo-Json -InputObject $environmentCustomProperties -Depth 10 -Compress\n",
    "    Write-Output \"👉🏻 Creating environment $environmentName\"\n",
    "    az apic environment create -g $resourceGroupName -s $apicResourceName --environment-id $environmentName --title $environmentName `\n",
    "            --description $environmentName\" environment\" --type $environmentType --custom-properties $environmentCustomPropertiesJson.replace('\"','\\\"') `\n",
    "            --server '{\\\"type\\\":\\\"MuleSoft API Management\\\"}'\n",
    "\n",
    "    # comment one of the following lines to use the real MuleSoft data or the local file\n",
    "    $anypointAPIListJson = anypoint-cli-v4 api-mgr:api:list --environment=$environmentName --output=json\n",
    "    # $anypointAPIListJson = Get-Content -Raw 'api-mgr_api_list.json'\n",
    "\n",
    "    $anypointAPIList = $anypointAPIListJson | ConvertFrom-Json\n",
    "    foreach ($anypointAPI in $anypointAPIList) {\n",
    "        \n",
    "        $apiCustomProperties = @{\n",
    "            \"technology\" = $anypointAPI.technology\n",
    "            \"stage\" = $anypointAPI.stage\n",
    "            \"isPublic\" = $anypointAPI.isPublic\n",
    "        }\n",
    "\n",
    "        $apiId = $anypointAPI.id\n",
    "        $apiName = $anypointAPI.assetId\n",
    "        $apiVersionId = $anypointAPI.assetVersion.replace(\".\",\"-\")\n",
    "        $apiVersionName = $anypointAPI.assetVersion\n",
    "        $definitionId = \"openapi\"\n",
    "\n",
    "        $apiCustomPropertiesJson = ConvertTo-Json -InputObject $apiCustomProperties -Depth 10 -Compress\n",
    "        write-output \"👉🏻 Creating API $apiName\"\n",
    "        az apic api create -g $resourceGroupName -s $apicResourceName --api-id $apiId --type REST `\n",
    "            --title $apiName  `\n",
    "            --custom-properties $apiCustomPropertiesJson.replace('\"','\\\"')\n",
    "\n",
    "        write-output \"👉🏻 Creating version $apiVersion of API $apiName\"\n",
    "        az apic api version create -g $resourceGroupName -s $apicResourceName --api-id $apiId --version-id $apiVersionId  `\n",
    "                    --title $apiVersionName --lifecycle-stage \"production\"\n",
    "\n",
    "        write-output \"👉🏻 Creating definition for version $apiVersion of API $apiName\"\n",
    "        az apic api definition create -g $resourceGroupName -s $apicResourceName --api-id $apiId `\n",
    "            --version-id $apiVersionId --definition-id $definitionId --title \"OpenAPI\" --description \"OpenAPI spec\"      \n",
    "\n",
    "        # uncomment the following line to use the real MuleSoft data or the local file\n",
    "        anypoint-cli-v4 api-mgr:api:download-proxy --environment=Sandbox $apiId \".downloads\"\n",
    "\n",
    "        $zipFilePath = \".downloads/\" + $apiName + \"-\" + $anypointAPI.productVersion + \"-\" + $anypointAPI.productVersion + \"_\" + $apiId + \".jar\"\n",
    "        if (Test-Path $zipFilePath) {\n",
    "            $destinationPath = \".downloads/\" + $apiId\n",
    "            Expand-Archive -Path $zipFilePath -DestinationPath $destinationPath -Force\n",
    "            $exchangeFilePath = \".downloads/\" + $apiId + \"/com/mulesoft/anypoint/gw/exchange.json\"\n",
    "            $exchangeJson = Get-Content -Raw $exchangeFilePath\n",
    "            $exchange = $exchangeJson | ConvertFrom-Json\n",
    "            $specFilePath = \".downloads/\" + $apiId + \"/com/mulesoft/anypoint/gw/\" + $exchange.main\n",
    "\n",
    "            write-output \"👉🏻 Importing specification to the API $apiName\"\n",
    "            az apic api definition import-specification -g $resourceGroupName -s $apicResourceName `\n",
    "                    --api-id $apiId --version-id $apiVersionId --definition-id $definitionId `\n",
    "                    --specification '{\\\"name\\\":\\\"openapi\\\",\\\"version\\\":\\\"3.0.3\\\"}' `\n",
    "                    --file-name $specFilePath\n",
    "        }\n",
    "\n",
    "        $deploymentId = $anypointAPI.deployment.applicationId\n",
    "\n",
    "        # comment one of the following lines to use the real MuleSoft data or the local file\n",
    "        $anypointAppJson = anypoint-cli-v4 runtime-mgr:application:describe $deploymentId --environment=$environmentName --output=json\n",
    "        # $anypointAppJson = Get-Content -Raw 'runtime-mgr-application_describe.jsonn'\n",
    "\n",
    "        $anypointApp = $anypointAppJson | ConvertFrom-Json\n",
    "\n",
    "        $deploymentCustomProperties = @{\n",
    "            \"anypointAppName\" = $anypointApp.name\n",
    "            \"targetId\" = $anypointApp.target.targetId\n",
    "            \"runtimeVersion\" = $anypointApp.target.deploymentSettings.runtimeVersion\n",
    "        }\n",
    "\n",
    "        $serverProperty = '{\\\"runtimeUri\\\":[\\\"' + $anypointApp.target.deploymentSettings.http.inbound.publicUrl + '\\\"]}'\n",
    "        \n",
    "        $deploymentCustomPropertiesJson = ConvertTo-Json -InputObject $deploymentCustomProperties -Depth 10 -Compress\n",
    "        write-output \"👉🏻 Creating deployment for the API $apiName\"\n",
    "        az apic api deployment create -g $resourceGroupName -s $apicResourceName --deployment-id $deploymentId `\n",
    "                --title \"Production deployment\" --description \"Petstore production deployment.\" --api-id $apiId `\n",
    "                --environment-id \"/workspaces/default/environments/$environmentName\" `\n",
    "                --definition-id \"/workspaces/default/apis/another-petstore/versions/$apiVersionId/definitions/$definitionId\" `\n",
    "                --server $serverProperty `\n",
    "                --custom-properties $deploymentCustomPropertiesJson.replace('\"','\\\"')\n",
    "\n",
    "    }\n",
    "}"
   ]
  },
  {
   "cell_type": "markdown",
   "metadata": {},
   "source": [
    "### 5️⃣ Discover the APIs that were just imported\n",
    "\n",
    "You can discover the APIs with fhe following methods:\n",
    "- With the Azure Portal\n",
    "- With the [self-hosted API Center Portal](https://learn.microsoft.com/en-us/azure/api-center/enable-api-center-portal)\n",
    "- With the [VS Code extension](https://learn.microsoft.com/en-us/azure/api-center/use-vscode-extension-copilot) that is integrated with GitHub Copilot Chat.\n",
    "- With the CLI, the service REST API and more\n",
    "\n",
    "Here we will use the [list command](https://learn.microsoft.com/en-us/cli/azure/apic/api?view=azure-cli-latest#az-apic-api-list) to display the APIs that we have just imported. \n"
   ]
  },
  {
   "cell_type": "code",
   "execution_count": null,
   "metadata": {
    "dotnet_interactive": {
     "language": "pwsh"
    },
    "polyglot_notebook": {
     "kernelName": "pwsh"
    },
    "vscode": {
     "languageId": "polyglot-notebook"
    }
   },
   "outputs": [],
   "source": [
    "az apic api list -g $resourceGroupName -s $apicResourceName --query \"[?title == 'petstore'].{Name:name, Title:title, Kind:kind, ContactEmail:contacts[0].email}\" -o table"
   ]
  },
  {
   "cell_type": "markdown",
   "metadata": {},
   "source": [
    "### 🗑️ Clean up resources\n",
    "\n",
    "When you're finished with the lab, you should remove all your deployed resources from Azure to avoid extra charges and keep your Azure subscription uncluttered.\n",
    "Use the [clean-up-resources notebook](clean-up-resources.ipynb) for that."
   ]
  }
 ],
 "metadata": {
  "kernelspec": {
   "display_name": "Python 3",
   "language": "python",
   "name": "python3"
  },
  "language_info": {
   "codemirror_mode": {
    "name": "ipython",
    "version": 3
   },
   "file_extension": ".py",
   "mimetype": "text/x-python",
   "name": "python",
   "nbconvert_exporter": "python",
   "pygments_lexer": "ipython3",
   "version": "3.11.9"
  }
 },
 "nbformat": 4,
 "nbformat_minor": 2
}
