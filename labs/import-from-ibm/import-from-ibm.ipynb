{
 "cells": [
  {
   "cell_type": "markdown",
   "metadata": {},
   "source": [
    "# API Center ❤️ all APIs\n",
    "\n",
    "## Import from IBM® API Connect\n",
    "\n",
    "![image](../../images/import-from-ibm.png)\n",
    "\n",
    "Playground to experiment bulk importing APIs from IBM API Connect. We start by creating an API Center instance using [Bicep resource definition](https://learn.microsoft.com/en-us/azure/templates/microsoft.apicenter/services?pivots=deployment-language-bicep) and then we will use the [IBM API Connect Tooklit](https://www.ibm.com/docs/en/api-connect/10.0.8?topic=tool-overview-command-line) to export the APIs and the [Azure CLI](https://learn.microsoft.com/en-us/cli/azure/apic?view=azure-cli-latest) to import the APIs into API Center.\n",
    "\n",
    "💡 Every step outlined below leverages the power of PowerShell scripts. This is designed so you can seamlessly integrate them into your automation workflows, CI/CD pipelines, webhooks, and more.\n",
    "\n",
    "### Learning Objectives - Upon completing this lab, you should be able to\n",
    "\n",
    "- Deploy Azure API Center using Bicep.\n",
    "- Configure the API Center metadata scheme for APIs, Environments and Deployments.\n",
    "- Understand the Azure CLI commands to manage Azure API Center. [Full list of commands available here](https://learn.microsoft.com/en-us/cli/azure/apic?view=azure-cli-latest).\n",
    "- Register APIs using the OpenAPI spec exported from IBM API Connect.\n",
    "- Create deployments for each IBM API Connect Gateway.\n",
    "- Search and discover the APIs registered in API Center.\n",
    "\n",
    "### Prerequisites\n",
    "\n",
    "- Install or update to the latest [.NET 8 SDK](https://dotnet.microsoft.com/en-us/download)\n",
    "- Install or update to the latest [Visual Studio Code](https://code.visualstudio.com/)\n",
    "- Install the [Polyglot Notebooks extension](https://marketplace.visualstudio.com/items?itemName=ms-dotnettools.dotnet-interactive-vscode) from the VS Code marketplace\n",
    "- Install or update to the latest [PowerShell](https://learn.microsoft.com/en-us/powershell/scripting/install/installing-powershell)\n",
    "- Install or update to the latest [Azure CLI](https://learn.microsoft.com/en-us/cli/azure/install-azure-cli). The Azure API Center extension will automatically install the first time you run an [az apic](https://learn.microsoft.com/en-us/cli/azure/apic?view=azure-cli-latest) command.\n",
    "- [An Azure Subscription](https://azure.microsoft.com/en-us/free/) with Contributor permissions\n",
    "- [Sign in to Azure with Azure CLI](https://learn.microsoft.com/en-us/cli/azure/authenticate-azure-cli-interactively)\n",
    "- Install or update to the latest [IBM API Connect Toolkit](https://www.ibm.com/docs/en/api-connect/10.0.8?topic=configuration-installing-toolkit)\n",
    "- [Logging in to a management server](https://www.ibm.com/docs/en/api-connect/10.0.8?topic=tool-logging-in-management-server)\n"
   ]
  },
  {
   "cell_type": "markdown",
   "metadata": {},
   "source": [
    "### 0️⃣ Initialize notebook variables\n",
    "\n",
    "- Resources will be suffixed by a unique string based on your subscription id\n",
    "- Adjust the APIC location parameter according your preferences and [region availability.](https://learn.microsoft.com/en-us/azure/api-center/overview#available-regions) \n"
   ]
  },
  {
   "cell_type": "code",
   "execution_count": null,
   "metadata": {
    "dotnet_interactive": {
     "language": "pwsh"
    },
    "polyglot_notebook": {
     "kernelName": "pwsh"
    },
    "vscode": {
     "languageId": "polyglot-notebook"
    }
   },
   "outputs": [],
   "source": [
    "\n",
    "$deploymentName = Split-Path -Path (Get-Location) -Leaf\n",
    "$resourceGroupName = \"lab-$deploymentName\" # change the name to match your naming style\n",
    "$resourceGroupLocation = \"uksouth\"\n",
    "$apicResourceNamePrefix = \"apic1\"\n",
    "$apicResourceSku = \"free\"\n",
    "$apicResourceTags = @{\n",
    "  \"lab\" = $deploymentName\n",
    "}\n",
    "\n",
    "$toolkitManagementServer = \"platform-api.eu-west-a.apiconnect.automation.ibm.com\"\n",
    "\n",
    "# the following metadata will be created during the deployment\n",
    "$metadata = @(\n",
    "  @{\n",
    "    \"name\" = 'orgId'\n",
    "    \"schema\" = '{\"title\":\"orgId\",\"description\":\"Organization Id\",\"type\":\"string\"}'\n",
    "    \"assignedTo\" = @(\n",
    "      @{\n",
    "        \"entity\" = 'environment'\n",
    "        \"required\" = $false\n",
    "      }\n",
    "    )\n",
    "  },\n",
    "  @{\n",
    "    \"name\" = 'region'\n",
    "    \"schema\" = '{\"title\":\"region\",\"description\":\"Environment region\",\"type\":\"string\"}'\n",
    "    \"assignedTo\" = @(\n",
    "      @{\n",
    "        \"entity\" = 'environment'\n",
    "        \"required\" = $false\n",
    "      }\n",
    "    )\n",
    "  },\n",
    "  @{\n",
    "    \"name\" = 'accountId'\n",
    "    \"schema\" = '{\"title\":\"accountId\",\"description\":\"Account Id\",\"type\":\"string\"}'\n",
    "    \"assignedTo\" = @(\n",
    "      @{\n",
    "        \"entity\" = 'environment'\n",
    "        \"required\" = $false\n",
    "      }\n",
    "    )\n",
    "  },\n",
    "  @{\n",
    "    \"name\" = 'tenantOwner'\n",
    "    \"schema\" = '{\"title\":\"tenantOwner\",\"description\":\"Tenant Owner Email\",\"type\":\"string\",\"format\":\"email\"}'\n",
    "    \"assignedTo\" = @(\n",
    "      @{\n",
    "        \"entity\" = 'environment'\n",
    "        \"required\" = $false\n",
    "      }\n",
    "    )\n",
    "  },\n",
    "  @{\n",
    "    \"name\" = 'createdDate'\n",
    "    \"schema\" = '{\"title\":\"createdDate\",\"description\":\"Date when the API was created\",\"type\":\"string\"}'\n",
    "    \"assignedTo\" = @(\n",
    "      @{\n",
    "        \"entity\" = 'environment'\n",
    "        \"required\" = $false\n",
    "      },\n",
    "      @{\n",
    "        \"entity\" = 'api'\n",
    "        \"required\" = $false\n",
    "      }\n",
    "    )\n",
    "  },\n",
    "  @{\n",
    "    \"name\" = 'Catalog'\n",
    "    \"schema\" = '{\"title\":\"Catalog\",\"description\":\"API Connect Catalog\",\"type\":\"string\"}'\n",
    "    \"assignedTo\" = @(\n",
    "      @{\n",
    "        \"entity\" = 'api'\n",
    "        \"required\" = $false\n",
    "      }\n",
    "    )\n",
    "  },\n",
    "  @{\n",
    "    \"name\" = 'Product'\n",
    "    \"schema\" = '{\"title\":\"Product\",\"description\":\"API Connect Product\",\"type\":\"string\"}'\n",
    "    \"assignedTo\" = @(\n",
    "      @{\n",
    "        \"entity\" = 'api'\n",
    "        \"required\" = $false\n",
    "      }\n",
    "    )\n",
    "  },\n",
    "  @{\n",
    "    \"name\" = 'Plan'\n",
    "    \"schema\" = '{\"title\":\"Plan\",\"description\":\"API Connect Plan\",\"type\":\"string\"}'\n",
    "    \"assignedTo\" = @(\n",
    "      @{\n",
    "        \"entity\" = 'api'\n",
    "        \"required\" = $false\n",
    "      }\n",
    "    )\n",
    "  },\n",
    "  @{\n",
    "    \"name\" = 'ManagementURL'\n",
    "    \"schema\" = '{\"title\":\"ManagementURL\",\"description\":\"API Connect API URL\",\"type\":\"string\"}'\n",
    "    \"assignedTo\" = @(\n",
    "      @{\n",
    "        \"entity\" = 'api'\n",
    "        \"required\" = $false\n",
    "      }\n",
    "    )\n",
    "  },\n",
    "  @{\n",
    "    \"name\" = 'State'\n",
    "    \"schema\" = '{\"title\":\"State\",\"description\":\"Publishing state\",\"type\":\"string\"}'\n",
    "    \"assignedTo\" = @(\n",
    "      @{\n",
    "        \"entity\" = 'api'\n",
    "        \"required\" = $false\n",
    "      }\n",
    "    )\n",
    "  },\n",
    "  @{\n",
    "    \"name\" = 'Tags'\n",
    "    \"schema\" = '{\"title\":\"Tags\",\"description\":\"API tags\",\"type\":\"array\",\"items\":{\"type\":\"string\"}}'\n",
    "    \"assignedTo\" = @(\n",
    "      @{\n",
    "        \"entity\" = 'api'\n",
    "        \"required\" = $false\n",
    "      }\n",
    "    )\n",
    "  },\n",
    "  @{\n",
    "    \"name\" = 'GatewayType'\n",
    "    \"schema\" = '{\"title\":\"GatewayType\",\"description\":\"Type of API Connect Gateway where the API is deployed\",\"type\":\"string\"}'\n",
    "    \"assignedTo\" = @(\n",
    "      @{\n",
    "        \"entity\" = 'deployment'\n",
    "        \"required\" = $false\n",
    "      }\n",
    "    )\n",
    "  },\n",
    "  @{\n",
    "    \"name\" = 'GatewayServiceUrls'\n",
    "    \"schema\" = '{\"title\":\"GatewayServiceUrls\",\"description\":\"Gateway Service Urls\",\"type\":\"string\"}'\n",
    "    \"assignedTo\" = @(\n",
    "      @{\n",
    "        \"entity\" = 'deployment'\n",
    "        \"required\" = $false\n",
    "      }\n",
    "    )\n",
    "  }\n",
    ")\n",
    "\n",
    "# the following environment(s) will be created during the deployment\n",
    "$environments = @(\n",
    ")\n",
    "\n",
    "Write-Output \"✅ Variables initialized ⌚ $(Get-Date -Format 'HH:mm:ss')\"\n"
   ]
  },
  {
   "cell_type": "markdown",
   "metadata": {},
   "source": [
    "### 1️⃣ Create the Azure Resource Group\n",
    "All resources deployed in this lab will be created in the specified resource group. Skip this step if you want to use an existing resource group."
   ]
  },
  {
   "cell_type": "code",
   "execution_count": null,
   "metadata": {
    "dotnet_interactive": {
     "language": "pwsh"
    },
    "polyglot_notebook": {
     "kernelName": "pwsh"
    },
    "vscode": {
     "languageId": "polyglot-notebook"
    }
   },
   "outputs": [],
   "source": [
    "$resourceGroupOutput = az group create --name $resourceGroupName --location $resourceGroupLocation\n",
    "\n",
    "if ($LASTEXITCODE -ne 0) {\n",
    "    Write-Output $resourceGroupOutput\n",
    "} else {\n",
    "    Write-Output \"✅ Azure Resource Grpup $resourceGroupName created ⌚ $(Get-Date -Format 'HH:mm:ss')\"\n",
    "}"
   ]
  },
  {
   "cell_type": "markdown",
   "metadata": {},
   "source": [
    "### 2️⃣ Create deployment using 🦾 Bicep\n",
    "\n",
    "This lab uses [Bicep](https://learn.microsoft.com/en-us/azure/azure-resource-manager/bicep/overview?tabs=bicep) to declarative define all the resources that will be deployed. Change the parameters or the [main.bicep](main.bicep) directly to try different configurations. "
   ]
  },
  {
   "cell_type": "code",
   "execution_count": null,
   "metadata": {
    "dotnet_interactive": {
     "language": "pwsh"
    },
    "polyglot_notebook": {
     "kernelName": "pwsh"
    },
    "vscode": {
     "languageId": "polyglot-notebook"
    }
   },
   "outputs": [],
   "source": [
    "$bicepParameters = @{\n",
    "    \"`$schema\" = \"https://schema.management.azure.com/schemas/2019-04-01/deploymentParameters.json#\"\n",
    "    \"contentVersion\" = \"1.0.0.0\"\n",
    "    \"parameters\" = @{\n",
    "        \"apicResourceNamePrefix\" = @{ \"value\" = $apicResourceNamePrefix }\n",
    "        \"apicResourceTags\" = @{ \"value\" = $apicResourceTags }\n",
    "        \"apicMetadataSchema\" = @{ \"value\" = $metadata }\n",
    "        \"apicEnvironments\" = @{ \"value\" = $environments }\n",
    "    }\n",
    "}\n",
    "\n",
    "$bicepParametersJson = ConvertTo-Json -InputObject $bicepParameters -Depth 10\n",
    "Set-Content -Path \"params.json\" -Value $bicepParametersJson\n",
    "\n",
    "# Execute the Azure CLI command to create the deployment\n",
    "az deployment group create --name $deploymentName --resource-group $resourceGroupName --template-file \"main.bicep\" --parameters \"params.json\"\n",
    "\n"
   ]
  },
  {
   "cell_type": "markdown",
   "metadata": {},
   "source": [
    "### 3️⃣ Get the deployment outputs\n",
    "\n",
    "We will set the `apicResourceName` variable with the value that was returned from the deployment "
   ]
  },
  {
   "cell_type": "code",
   "execution_count": null,
   "metadata": {
    "dotnet_interactive": {
     "language": "pwsh"
    },
    "polyglot_notebook": {
     "kernelName": "pwsh"
    },
    "vscode": {
     "languageId": "polyglot-notebook"
    }
   },
   "outputs": [],
   "source": [
    "$deploymentOutput = az deployment group show --name $deploymentName -g $resourceGroupName --query properties.outputs.apicResourceName.value -o json\n",
    "if ($LASTEXITCODE -ne 0) {\n",
    "    Write-Output $deploymentOutput\n",
    "} else {\n",
    "    $apicResourceName = $deploymentOutput | ConvertFrom-Json\n",
    "}\n",
    "Write-Output \"👉🏻 API Center name: $apicResourceName\""
   ]
  },
  {
   "cell_type": "markdown",
   "metadata": {},
   "source": [
    "### 4️⃣ Create the API Center environments based on each API Connect org"
   ]
  },
  {
   "cell_type": "code",
   "execution_count": null,
   "metadata": {
    "dotnet_interactive": {
     "language": "pwsh"
    },
    "polyglot_notebook": {
     "kernelName": "pwsh"
    },
    "vscode": {
     "languageId": "polyglot-notebook"
    }
   },
   "outputs": [],
   "source": [
    "\n",
    "$orgsJson = apic orgs -s $toolkitManagementServer --format json --my\n",
    "\n",
    "$orgs = $orgsJson | ConvertFrom-Json\n",
    "foreach ($org in $orgs.results) {\n",
    "    $orgName = $org.name\n",
    "\n",
    "    $catalogsJson = apic catalogs --org $orgName -s $toolkitManagementServer --format json\n",
    "    $catalogs = $catalogsJson | ConvertFrom-Json\n",
    "    foreach ($catalog in $catalogs.results) {\n",
    "        $catalogName = $catalog.name\n",
    "        $catalogTitle = $catalog.title\n",
    "        $catalogDescription = $catalog.summary\n",
    "\n",
    "        $environmentCustomProperties = @{\n",
    "            \"orgId\" = $org.id\n",
    "            \"region\" = $org.metadata.region\n",
    "            \"accountId\" = $org.metadata.accountId\n",
    "            \"tenantOwner\" = $org.metadata.tenant_owner_email\n",
    "            \"createdDate\" = $org.metadata.created_at\n",
    "        }\n",
    "        $environmentCustomPropertiesJson = ConvertTo-Json -InputObject $environmentCustomProperties -Depth 10 -Compress\n",
    "        Write-Output \"👉🏻 Creating environment $catalogName\"\n",
    "        az apic environment create -g $resourceGroupName -n $apicResourceName --environment-id $catalogName --title $catalogTitle `\n",
    "                --description $catalogDescription --type $catalogTitle --custom-properties $environmentCustomPropertiesJson.replace('\"','\\\"') `\n",
    "                --server \"{'type': 'Azure API Management'}\" --onboarding \"{'developerPortalUri': []}\"\n",
    "    }\n",
    "\n",
    "}\n",
    "\n"
   ]
  },
  {
   "cell_type": "markdown",
   "metadata": {},
   "source": [
    "### 5️⃣ Export the APIs from IBM API Connect and Register them in API Center\n",
    "\n"
   ]
  },
  {
   "cell_type": "code",
   "execution_count": null,
   "metadata": {
    "dotnet_interactive": {
     "language": "pwsh"
    },
    "polyglot_notebook": {
     "kernelName": "pwsh"
    },
    "vscode": {
     "languageId": "polyglot-notebook"
    }
   },
   "outputs": [],
   "source": [
    "rm -Recurse .temp\n",
    "mkdir .temp\n",
    "\n",
    "$orgsJson = apic orgs -s $toolkitManagementServer --format json --my\n",
    "\n",
    "$orgs = $orgsJson | ConvertFrom-Json\n",
    "foreach ($org in $orgs.results) {\n",
    "    $environmentName = $org.title\n",
    "    $orgName = $org.name\n",
    "    $catalogsJson = apic catalogs --org $orgName -s $toolkitManagementServer --format json\n",
    "    $catalogs = $catalogsJson | ConvertFrom-Json\n",
    "    foreach ($catalog in $catalogs.results) {\n",
    "        $catalogName = $catalog.name\n",
    "        $productsJson = apic products --org $orgName -s $toolkitManagementServer --scope catalog -c $catalogName --format json\n",
    "        $products = $productsJson | ConvertFrom-Json\n",
    "        foreach ($product in $products.results) {\n",
    "            $productName = $product.name\n",
    "            foreach ($plan in $product.plans) {\n",
    "                $planName = $plan.name\n",
    "                foreach ($api in $plan.apis) {\n",
    "                    $apiID = $api.id\n",
    "                    $apiDetailsJson = apic apis:list --org $orgName -s $toolkitManagementServer --scope catalog -c $catalogName --format json $apiID\n",
    "                    $apiDetails = $apiDetailsJson | ConvertFrom-Json\n",
    "                    $apiName = $apiDetails.name\n",
    "                    $apiVersion = $apiDetails.version\n",
    "                    $apiVersionName = $apiVersion.replace('.', '-')\n",
    "                    $apiNameAndVersion = $apiName + \":\" + $apiVersion\n",
    "                    $apiSpecFile = $apiName + \"_\" + $apiVersion + \".json\"\n",
    " \n",
    "                    apic apis:get --org $orgName -s $toolkitManagementServer --scope catalog -c $catalogName --format json $apiNameAndVersion --output .temp\n",
    "\n",
    "                    write-output \"👉🏻 Registering API $apiName\"\n",
    "                    az apic api register -g $resourceGroupName -n $apicResourceName -l .temp/$apiSpecFile\n",
    "\n",
    "                    $apiCustomProperties = @{ \n",
    "                        \"createdDate\" = $apiDetails.created_at      \n",
    "                        \"Catalog\" = $catalogName\n",
    "                        \"Product\" = $productName\n",
    "                        \"Plan\" = $planName\n",
    "                        \"ManagementURL\" = $apiDetails.url\n",
    "                        \"State\" = $apiDetails.state\n",
    "                    }\n",
    "                    $apiCustomPropertiesJson = ConvertTo-Json -InputObject $apiCustomProperties -Depth 10 -Compress\n",
    "                    az apic api update -g $resourceGroupName -n $apicResourceName --api-id $apiName --custom-properties $apiCustomPropertiesJson.replace('\"','\\\"')    \n",
    "\n",
    "                    $openAPIJson = Get-Content -Raw .temp/$apiSpecFile\n",
    "                    $openAPI = $openAPIJson | ConvertFrom-Json\n",
    "#                    $runtimeUri = $openAPI.servers[0].url\n",
    "\n",
    "                        \n",
    "                    $deploymentId = $org.title\n",
    "                    # apic gateway-services --org $orgName -s $toolkitManagementServer --format json --scope org\n",
    "                    $server = $('{\\\"runtimeUri\\\":[\\\"https://api.eu-west-a.apiconnect.ibmappdomain.cloud\\\"]}')\n",
    "\n",
    "                    $deploymentCustomProperties = @{\n",
    "                        \"createdDate\" = $apiDetails.createdDate\n",
    "                        \"GatewayType\" = $apiDetails.gateway_type\n",
    "                        \"GatewayServiceUrls\" = $apiDetails.url\n",
    "                    }\n",
    "                    $deploymentCustomPropertiesJson = ConvertTo-Json -InputObject $deploymentCustomProperties -Depth 10 -Compress\n",
    "                    write-output \"👉🏻 Creating $catalogName deployment for API $apiName\"\n",
    "                    az apic api deployment create -g $resourceGroupName -n $apicResourceName --deployment-id $catalogName `\n",
    "                            --title $catalogName --description $catalogName --api-id $apiName `\n",
    "                            --environment-id \"/workspaces/default/environments/$catalogName\" `\n",
    "                            --definition-id \"/workspaces/default/apis/$apiName/versions/$apiVersionName/definitions/openapi\" `\n",
    "                            --server $server `\n",
    "                            --custom-properties $deploymentCustomPropertiesJson.replace('\"','\\\"')        \n",
    "\n",
    "                }\n",
    "\n",
    "            }\n",
    "        }\n",
    "\n",
    "    }\n",
    "\n",
    "\n",
    "}"
   ]
  },
  {
   "cell_type": "markdown",
   "metadata": {},
   "source": [
    "### Discover the APIs that were just imported\n",
    "\n",
    "You can discover the APIs with fhe following methods:\n",
    "- With the Azure Portal\n",
    "- With the [self-hosted API Center Portal](https://learn.microsoft.com/en-us/azure/api-center/enable-api-center-portal)\n",
    "- With the [VS Code extension](https://learn.microsoft.com/en-us/azure/api-center/use-vscode-extension-copilot) that is integrated with GitHub Copilot Chat.\n",
    "- With the CLI, the service REST API and more\n",
    "\n",
    "Here we will use the [list command](https://learn.microsoft.com/en-us/cli/azure/apic/api?view=azure-cli-latest#az-apic-api-list) to display the APIs that we have just imported. \n"
   ]
  },
  {
   "cell_type": "code",
   "execution_count": null,
   "metadata": {
    "dotnet_interactive": {
     "language": "pwsh"
    },
    "polyglot_notebook": {
     "kernelName": "pwsh"
    },
    "vscode": {
     "languageId": "polyglot-notebook"
    }
   },
   "outputs": [],
   "source": [
    "az apic api list -g $resourceGroupName -n $apicResourceName --query \"[].{Name:name, Title:title, Kind:kind, ContactEmail:contacts[0].email}\" -o table"
   ]
  },
  {
   "cell_type": "markdown",
   "metadata": {},
   "source": [
    "### 🗑️ Clean up resources\n",
    "\n",
    "When you're finished with the lab, you should remove all your deployed resources from Azure to avoid extra charges and keep your Azure subscription uncluttered.\n",
    "Use the [clean-up-resources notebook](clean-up-resources.ipynb) for that."
   ]
  }
 ],
 "metadata": {
  "kernelspec": {
   "display_name": ".NET (C#)",
   "language": "C#",
   "name": ".net-csharp"
  },
  "language_info": {
   "codemirror_mode": {
    "name": "ipython",
    "version": 3
   },
   "file_extension": ".py",
   "mimetype": "text/x-python",
   "name": "python",
   "nbconvert_exporter": "python",
   "pygments_lexer": "ipython3",
   "version": "3.11.9"
  },
  "polyglot_notebook": {
   "kernelInfo": {
    "defaultKernelName": "csharp",
    "items": [
     {
      "aliases": [],
      "name": "csharp"
     }
    ]
   }
  }
 },
 "nbformat": 4,
 "nbformat_minor": 2
}
